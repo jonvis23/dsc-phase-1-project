{
 "cells": [
  {
   "attachments": {},
   "cell_type": "markdown",
   "metadata": {},
   "source": [
    "## Final Project Submission\n",
    "\n",
    "* Student name: John Elvis\n",
    "* Student pace: part time \n",
    "* Scheduled project review date/time: \n",
    "* Instructor name: \n",
    "* Blog post URL:\n"
   ]
  },
  {
   "attachments": {},
   "cell_type": "markdown",
   "metadata": {},
   "source": [
    "## Overview"
   ]
  },
  {
   "attachments": {},
   "cell_type": "markdown",
   "metadata": {},
   "source": [
    "This project employs exploratory data analysis to extract valuable information for Microsoft, aiming to establish a new movie studio. By analyzing datasets from IMDB and Box Office Mojo, the project provides recommendations regarding the film genres that Microsoft should consider exploring. \n",
    "\n",
    "The success and popularity of each genre are evaluated using two key metrics: the total gross incomes and the critical response. The results suggest that Microsoft would benefit from concentrating on genres such as Sci-Fi, adventure, animation, and action, as these genres have demonstrated higher total gross income."
   ]
  },
  {
   "attachments": {},
   "cell_type": "markdown",
   "metadata": {},
   "source": [
    "## Business Problem"
   ]
  },
  {
   "attachments": {},
   "cell_type": "markdown",
   "metadata": {},
   "source": [
    "Microsoft intends to join the league of prominent companies by venturing into the production of unique video content. To accomplish this, they plan to establish a movie studio. However, their lack of expertise in the field poses a challenge. This analysis primarily focuses on examining the prevailing trends in successful movies at the box office. Through an exploratory data analysis, valuable insights are generated, which can be used by the head of Microsoft's new movie studio to make informed decisions regarding the genres and themes of films to produce.\n",
    "\n",
    "Questions :<br>\n",
    "Which genre of movies have the highest gross income?<br>\n",
    "Which genre of movies have a higher average rating?<br>\n",
    "What is the relationship between the average rating and the gross income?<br>\n",
    "What is the domestic gross and foreign gross income by start year of the movies?<br>"
   ]
  },
  {
   "attachments": {},
   "cell_type": "markdown",
   "metadata": {},
   "source": [
    "### Importing Modules and Relevant Datasets"
   ]
  },
  {
   "cell_type": "code",
   "execution_count": 105,
   "metadata": {},
   "outputs": [],
   "source": [
    "import pandas as pd\n",
    "import seaborn as sns\n",
    "import matplotlib.pyplot as plt\n"
   ]
  },
  {
   "cell_type": "code",
   "execution_count": 106,
   "metadata": {},
   "outputs": [],
   "source": [
    "#load the datasets\n",
    "movie_gross = pd.read_csv('zippedData/bom.movie_gross.csv.gz')\n",
    "imdb_title_basics = pd.read_csv('zippedData/imdb.title.basics.csv.gz')\n",
    "imdb_ratings = pd.read_csv('zippedData/imdb.title.ratings.csv.gz')"
   ]
  },
  {
   "attachments": {},
   "cell_type": "markdown",
   "metadata": {},
   "source": [
    "### Dataset understanding\n",
    "\n",
    "The first step is to take a glimpse at your data to understand what variables you’re working with andhow the values are structured based on the column they’re in.This will give a good idea of what data types you might be dealing with, what columns you need to perform transformations or cleaning, and other data you might be able to extract.,<br>\n",
    "<br>\n",
    "We will define a function `df_inpsect` to help inspect our datasets.<br>\n",
    "It returns : <br>\n",
    "- the first 5 entries of the dataset <br> \n",
    "- dataset information <br>\n",
    "- total number of null values per column in a dataframe <br> \n",
    "\n"
   ]
  },
  {
   "cell_type": "code",
   "execution_count": 107,
   "metadata": {},
   "outputs": [],
   "source": [
    "def df_inspect(df):\n",
    "    \"\"\"\n",
    "    Takes a DataFrame as input, and displays the head, info, and sum of all null values for each column in that DataFrame\n",
    "    \"\"\"\n",
    "    return (display(df.head()), \n",
    "            display(df.info()), \n",
    "            display(df.isna().sum()))\n"
   ]
  },
  {
   "attachments": {},
   "cell_type": "markdown",
   "metadata": {},
   "source": [
    "#### Movie_gross dataframe"
   ]
  },
  {
   "cell_type": "code",
   "execution_count": 108,
   "metadata": {},
   "outputs": [
    {
     "data": {
      "text/html": [
       "<div>\n",
       "<style scoped>\n",
       "    .dataframe tbody tr th:only-of-type {\n",
       "        vertical-align: middle;\n",
       "    }\n",
       "\n",
       "    .dataframe tbody tr th {\n",
       "        vertical-align: top;\n",
       "    }\n",
       "\n",
       "    .dataframe thead th {\n",
       "        text-align: right;\n",
       "    }\n",
       "</style>\n",
       "<table border=\"1\" class=\"dataframe\">\n",
       "  <thead>\n",
       "    <tr style=\"text-align: right;\">\n",
       "      <th></th>\n",
       "      <th>title</th>\n",
       "      <th>studio</th>\n",
       "      <th>domestic_gross</th>\n",
       "      <th>foreign_gross</th>\n",
       "      <th>year</th>\n",
       "    </tr>\n",
       "  </thead>\n",
       "  <tbody>\n",
       "    <tr>\n",
       "      <th>0</th>\n",
       "      <td>Toy Story 3</td>\n",
       "      <td>BV</td>\n",
       "      <td>415000000.0</td>\n",
       "      <td>652000000</td>\n",
       "      <td>2010</td>\n",
       "    </tr>\n",
       "    <tr>\n",
       "      <th>1</th>\n",
       "      <td>Alice in Wonderland (2010)</td>\n",
       "      <td>BV</td>\n",
       "      <td>334200000.0</td>\n",
       "      <td>691300000</td>\n",
       "      <td>2010</td>\n",
       "    </tr>\n",
       "    <tr>\n",
       "      <th>2</th>\n",
       "      <td>Harry Potter and the Deathly Hallows Part 1</td>\n",
       "      <td>WB</td>\n",
       "      <td>296000000.0</td>\n",
       "      <td>664300000</td>\n",
       "      <td>2010</td>\n",
       "    </tr>\n",
       "    <tr>\n",
       "      <th>3</th>\n",
       "      <td>Inception</td>\n",
       "      <td>WB</td>\n",
       "      <td>292600000.0</td>\n",
       "      <td>535700000</td>\n",
       "      <td>2010</td>\n",
       "    </tr>\n",
       "    <tr>\n",
       "      <th>4</th>\n",
       "      <td>Shrek Forever After</td>\n",
       "      <td>P/DW</td>\n",
       "      <td>238700000.0</td>\n",
       "      <td>513900000</td>\n",
       "      <td>2010</td>\n",
       "    </tr>\n",
       "  </tbody>\n",
       "</table>\n",
       "</div>"
      ],
      "text/plain": [
       "                                         title studio  domestic_gross  \\\n",
       "0                                  Toy Story 3     BV     415000000.0   \n",
       "1                   Alice in Wonderland (2010)     BV     334200000.0   \n",
       "2  Harry Potter and the Deathly Hallows Part 1     WB     296000000.0   \n",
       "3                                    Inception     WB     292600000.0   \n",
       "4                          Shrek Forever After   P/DW     238700000.0   \n",
       "\n",
       "  foreign_gross  year  \n",
       "0     652000000  2010  \n",
       "1     691300000  2010  \n",
       "2     664300000  2010  \n",
       "3     535700000  2010  \n",
       "4     513900000  2010  "
      ]
     },
     "metadata": {},
     "output_type": "display_data"
    },
    {
     "name": "stdout",
     "output_type": "stream",
     "text": [
      "<class 'pandas.core.frame.DataFrame'>\n",
      "RangeIndex: 3387 entries, 0 to 3386\n",
      "Data columns (total 5 columns):\n",
      " #   Column          Non-Null Count  Dtype  \n",
      "---  ------          --------------  -----  \n",
      " 0   title           3387 non-null   object \n",
      " 1   studio          3382 non-null   object \n",
      " 2   domestic_gross  3359 non-null   float64\n",
      " 3   foreign_gross   2037 non-null   object \n",
      " 4   year            3387 non-null   int64  \n",
      "dtypes: float64(1), int64(1), object(3)\n",
      "memory usage: 132.4+ KB\n"
     ]
    },
    {
     "data": {
      "text/plain": [
       "None"
      ]
     },
     "metadata": {},
     "output_type": "display_data"
    },
    {
     "data": {
      "text/plain": [
       "title                0\n",
       "studio               5\n",
       "domestic_gross      28\n",
       "foreign_gross     1350\n",
       "year                 0\n",
       "dtype: int64"
      ]
     },
     "metadata": {},
     "output_type": "display_data"
    },
    {
     "data": {
      "text/plain": [
       "(None, None, None)"
      ]
     },
     "execution_count": 108,
     "metadata": {},
     "output_type": "execute_result"
    }
   ],
   "source": [
    "#inspect movie_gross dataframe\n",
    "df_inspect(movie_gross)"
   ]
  },
  {
   "attachments": {},
   "cell_type": "markdown",
   "metadata": {},
   "source": [
    "From the above output, DataFrame `bom_movie` contains 3387 rows and 5 columns with the following information about movies:\n",
    "> - title : The title of the movie <br>\n",
    "> - studio : The studio that produced the movie<br>\n",
    "> - domestic_gross : The domestic gross revenue of the movie in <br>\n",
    "> - foreign_gross : The foreign gross revenue of the movie in dollars<br>\n",
    "> - year : The year in which the movie was released<br>"
   ]
  },
  {
   "cell_type": "code",
   "execution_count": 109,
   "metadata": {},
   "outputs": [
    {
     "data": {
      "text/html": [
       "<div>\n",
       "<style scoped>\n",
       "    .dataframe tbody tr th:only-of-type {\n",
       "        vertical-align: middle;\n",
       "    }\n",
       "\n",
       "    .dataframe tbody tr th {\n",
       "        vertical-align: top;\n",
       "    }\n",
       "\n",
       "    .dataframe thead th {\n",
       "        text-align: right;\n",
       "    }\n",
       "</style>\n",
       "<table border=\"1\" class=\"dataframe\">\n",
       "  <thead>\n",
       "    <tr style=\"text-align: right;\">\n",
       "      <th></th>\n",
       "      <th>tconst</th>\n",
       "      <th>primary_title</th>\n",
       "      <th>original_title</th>\n",
       "      <th>start_year</th>\n",
       "      <th>runtime_minutes</th>\n",
       "      <th>genres</th>\n",
       "    </tr>\n",
       "  </thead>\n",
       "  <tbody>\n",
       "    <tr>\n",
       "      <th>0</th>\n",
       "      <td>tt0063540</td>\n",
       "      <td>Sunghursh</td>\n",
       "      <td>Sunghursh</td>\n",
       "      <td>2013</td>\n",
       "      <td>175.0</td>\n",
       "      <td>Action,Crime,Drama</td>\n",
       "    </tr>\n",
       "    <tr>\n",
       "      <th>1</th>\n",
       "      <td>tt0066787</td>\n",
       "      <td>One Day Before the Rainy Season</td>\n",
       "      <td>Ashad Ka Ek Din</td>\n",
       "      <td>2019</td>\n",
       "      <td>114.0</td>\n",
       "      <td>Biography,Drama</td>\n",
       "    </tr>\n",
       "    <tr>\n",
       "      <th>2</th>\n",
       "      <td>tt0069049</td>\n",
       "      <td>The Other Side of the Wind</td>\n",
       "      <td>The Other Side of the Wind</td>\n",
       "      <td>2018</td>\n",
       "      <td>122.0</td>\n",
       "      <td>Drama</td>\n",
       "    </tr>\n",
       "    <tr>\n",
       "      <th>3</th>\n",
       "      <td>tt0069204</td>\n",
       "      <td>Sabse Bada Sukh</td>\n",
       "      <td>Sabse Bada Sukh</td>\n",
       "      <td>2018</td>\n",
       "      <td>NaN</td>\n",
       "      <td>Comedy,Drama</td>\n",
       "    </tr>\n",
       "    <tr>\n",
       "      <th>4</th>\n",
       "      <td>tt0100275</td>\n",
       "      <td>The Wandering Soap Opera</td>\n",
       "      <td>La Telenovela Errante</td>\n",
       "      <td>2017</td>\n",
       "      <td>80.0</td>\n",
       "      <td>Comedy,Drama,Fantasy</td>\n",
       "    </tr>\n",
       "  </tbody>\n",
       "</table>\n",
       "</div>"
      ],
      "text/plain": [
       "      tconst                    primary_title              original_title  \\\n",
       "0  tt0063540                        Sunghursh                   Sunghursh   \n",
       "1  tt0066787  One Day Before the Rainy Season             Ashad Ka Ek Din   \n",
       "2  tt0069049       The Other Side of the Wind  The Other Side of the Wind   \n",
       "3  tt0069204                  Sabse Bada Sukh             Sabse Bada Sukh   \n",
       "4  tt0100275         The Wandering Soap Opera       La Telenovela Errante   \n",
       "\n",
       "   start_year  runtime_minutes                genres  \n",
       "0        2013            175.0    Action,Crime,Drama  \n",
       "1        2019            114.0       Biography,Drama  \n",
       "2        2018            122.0                 Drama  \n",
       "3        2018              NaN          Comedy,Drama  \n",
       "4        2017             80.0  Comedy,Drama,Fantasy  "
      ]
     },
     "metadata": {},
     "output_type": "display_data"
    },
    {
     "name": "stdout",
     "output_type": "stream",
     "text": [
      "<class 'pandas.core.frame.DataFrame'>\n",
      "RangeIndex: 146144 entries, 0 to 146143\n",
      "Data columns (total 6 columns):\n",
      " #   Column           Non-Null Count   Dtype  \n",
      "---  ------           --------------   -----  \n",
      " 0   tconst           146144 non-null  object \n",
      " 1   primary_title    146144 non-null  object \n",
      " 2   original_title   146123 non-null  object \n",
      " 3   start_year       146144 non-null  int64  \n",
      " 4   runtime_minutes  114405 non-null  float64\n",
      " 5   genres           140736 non-null  object \n",
      "dtypes: float64(1), int64(1), object(4)\n",
      "memory usage: 6.7+ MB\n"
     ]
    },
    {
     "data": {
      "text/plain": [
       "None"
      ]
     },
     "metadata": {},
     "output_type": "display_data"
    },
    {
     "data": {
      "text/plain": [
       "tconst                 0\n",
       "primary_title          0\n",
       "original_title        21\n",
       "start_year             0\n",
       "runtime_minutes    31739\n",
       "genres              5408\n",
       "dtype: int64"
      ]
     },
     "metadata": {},
     "output_type": "display_data"
    },
    {
     "data": {
      "text/plain": [
       "(None, None, None)"
      ]
     },
     "execution_count": 109,
     "metadata": {},
     "output_type": "execute_result"
    }
   ],
   "source": [
    "df_inspect(imdb_title_basics)"
   ]
  },
  {
   "attachments": {},
   "cell_type": "markdown",
   "metadata": {},
   "source": [
    "From the above output, DataFrame `imdb_title_basics` contains 146144 rows and 6 columns.<br>\n",
    "<br>\n",
    " [Imdb site](https://developer.imdb.com/non-commercial-datasets/) also reveals additional info about the title of each columns:<br>\n",
    "\n",
    "> - tconst (string) - alphanumeric unique identifier of the title<br>\n",
    "> - primaryTitle (string) – the more popular title / the title used by the filmmakers on promotional materials at the point of release<br>\n",
    "> - originalTitle (string) - original title, in the original language<br>\n",
    "> - startYear (YYYY) – represents the release year of a title. In the case of TV Series, it is the series start year<br>\n",
    "> - runtimeMinutes – primary runtime of the title, in minutes<br>\n",
    "> - genres (string array) – includes up to three genres associated with the title<br>"
   ]
  },
  {
   "cell_type": "code",
   "execution_count": 110,
   "metadata": {},
   "outputs": [
    {
     "data": {
      "text/html": [
       "<div>\n",
       "<style scoped>\n",
       "    .dataframe tbody tr th:only-of-type {\n",
       "        vertical-align: middle;\n",
       "    }\n",
       "\n",
       "    .dataframe tbody tr th {\n",
       "        vertical-align: top;\n",
       "    }\n",
       "\n",
       "    .dataframe thead th {\n",
       "        text-align: right;\n",
       "    }\n",
       "</style>\n",
       "<table border=\"1\" class=\"dataframe\">\n",
       "  <thead>\n",
       "    <tr style=\"text-align: right;\">\n",
       "      <th></th>\n",
       "      <th>tconst</th>\n",
       "      <th>averagerating</th>\n",
       "      <th>numvotes</th>\n",
       "    </tr>\n",
       "  </thead>\n",
       "  <tbody>\n",
       "    <tr>\n",
       "      <th>0</th>\n",
       "      <td>tt10356526</td>\n",
       "      <td>8.3</td>\n",
       "      <td>31</td>\n",
       "    </tr>\n",
       "    <tr>\n",
       "      <th>1</th>\n",
       "      <td>tt10384606</td>\n",
       "      <td>8.9</td>\n",
       "      <td>559</td>\n",
       "    </tr>\n",
       "    <tr>\n",
       "      <th>2</th>\n",
       "      <td>tt1042974</td>\n",
       "      <td>6.4</td>\n",
       "      <td>20</td>\n",
       "    </tr>\n",
       "    <tr>\n",
       "      <th>3</th>\n",
       "      <td>tt1043726</td>\n",
       "      <td>4.2</td>\n",
       "      <td>50352</td>\n",
       "    </tr>\n",
       "    <tr>\n",
       "      <th>4</th>\n",
       "      <td>tt1060240</td>\n",
       "      <td>6.5</td>\n",
       "      <td>21</td>\n",
       "    </tr>\n",
       "  </tbody>\n",
       "</table>\n",
       "</div>"
      ],
      "text/plain": [
       "       tconst  averagerating  numvotes\n",
       "0  tt10356526            8.3        31\n",
       "1  tt10384606            8.9       559\n",
       "2   tt1042974            6.4        20\n",
       "3   tt1043726            4.2     50352\n",
       "4   tt1060240            6.5        21"
      ]
     },
     "metadata": {},
     "output_type": "display_data"
    },
    {
     "name": "stdout",
     "output_type": "stream",
     "text": [
      "<class 'pandas.core.frame.DataFrame'>\n",
      "RangeIndex: 73856 entries, 0 to 73855\n",
      "Data columns (total 3 columns):\n",
      " #   Column         Non-Null Count  Dtype  \n",
      "---  ------         --------------  -----  \n",
      " 0   tconst         73856 non-null  object \n",
      " 1   averagerating  73856 non-null  float64\n",
      " 2   numvotes       73856 non-null  int64  \n",
      "dtypes: float64(1), int64(1), object(1)\n",
      "memory usage: 1.7+ MB\n"
     ]
    },
    {
     "data": {
      "text/plain": [
       "None"
      ]
     },
     "metadata": {},
     "output_type": "display_data"
    },
    {
     "data": {
      "text/plain": [
       "tconst           0\n",
       "averagerating    0\n",
       "numvotes         0\n",
       "dtype: int64"
      ]
     },
     "metadata": {},
     "output_type": "display_data"
    },
    {
     "data": {
      "text/plain": [
       "(None, None, None)"
      ]
     },
     "execution_count": 110,
     "metadata": {},
     "output_type": "execute_result"
    }
   ],
   "source": [
    "df_inspect(imdb_ratings)"
   ]
  },
  {
   "attachments": {},
   "cell_type": "markdown",
   "metadata": {},
   "source": [
    "From the above output, DataFrame `imdb_title_basics` contains 73856 rows and 3 columns:<br>\n",
    "> - tconst (string) - alphanumeric unique identifier of the title\n",
    "> - averageRating – weighted average of all the individual user ratings\n",
    "> - numVotes - number of votes the title has received "
   ]
  },
  {
   "attachments": {},
   "cell_type": "markdown",
   "metadata": {},
   "source": [
    "### Data Cleaning\n",
    "\n",
    "The next step is to clean our data so that we can deal with quality data to enhance analysis.\n",
    "Steps:\n",
    " - Check for missing values\n",
    " - Check for duplicate values\n",
    " - Amend data types \n",
    " - Fix error values"
   ]
  },
  {
   "attachments": {},
   "cell_type": "markdown",
   "metadata": {},
   "source": [
    "#### Check for missing values"
   ]
  },
  {
   "attachments": {},
   "cell_type": "markdown",
   "metadata": {},
   "source": [
    "We create a simple loop to create a list of the entries with missing values for each column of a dataset."
   ]
  },
  {
   "cell_type": "code",
   "execution_count": 111,
   "metadata": {},
   "outputs": [
    {
     "name": "stdout",
     "output_type": "stream",
     "text": [
      "Missing Values in movie_gross:\n",
      "title                0\n",
      "studio               5\n",
      "domestic_gross      28\n",
      "foreign_gross     1350\n",
      "year                 0\n",
      "dtype: int64 \n",
      " ----\n",
      "\n",
      "Missing Values in imdb_title_basic:\n",
      "tconst                 0\n",
      "primary_title          0\n",
      "original_title        21\n",
      "start_year             0\n",
      "runtime_minutes    31739\n",
      "genres              5408\n",
      "dtype: int64 \n",
      " ----\n",
      "\n",
      "Missing Values in imdb_ratings:\n",
      "tconst           0\n",
      "averagerating    0\n",
      "numvotes         0\n",
      "dtype: int64 \n",
      " ----\n",
      "\n"
     ]
    }
   ],
   "source": [
    "df_list=  [movie_gross,imdb_title_basics, imdb_ratings]\n",
    "df_list_names = ['Missing Values in movie_gross','Missing Values in imdb_title_basic','Missing Values in imdb_ratings']\n",
    "for i, n in zip(df_list, df_list_names):\n",
    "    print(f'{n}:')\n",
    "    print(i.isna().sum(), '\\n ----\\n') "
   ]
  },
  {
   "attachments": {},
   "cell_type": "markdown",
   "metadata": {},
   "source": [
    "All datasets contain missing values except the `imdb_rating` . This means we will deal with the missing values of the rest datasets."
   ]
  },
  {
   "attachments": {},
   "cell_type": "markdown",
   "metadata": {},
   "source": [
    "For `Movie_gross` dataset , we can conclude movie entries with null values did not have domestic gross neither foreign income for that year, hence replacing the value with 0. This occurs for `domestic_gross` and `foreign_gross` .\n",
    "\n",
    "Studio column contains 5 missing values, we replace this with `None`"
   ]
  },
  {
   "cell_type": "code",
   "execution_count": 112,
   "metadata": {},
   "outputs": [],
   "source": [
    "#replace the missing values of foreign_gross and domestic_gross with 0.\n",
    "movie_gross['domestic_gross'] = movie_gross.domestic_gross.fillna(0.0)  \n",
    "movie_gross['foreign_gross'] = movie_gross.foreign_gross.fillna(0.0) \n",
    "\n",
    "#replace missing values of studio with 'None'\n",
    "movie_gross['studio'] = movie_gross.studio.fillna('None')"
   ]
  },
  {
   "attachments": {},
   "cell_type": "markdown",
   "metadata": {},
   "source": [
    "Lastly, for `imdb_title_df` , we have  missing values in some columns.<br>\n",
    " - The values in `original_title` to be replaced with `primary_title`. \n",
    "- `runtime_minutes` are vital for the analysis , the missing values to be replaced with median value of the column.\n",
    "- Missing values in the genres column will be dropped; genre of each entry is very crucial for analysis ."
   ]
  },
  {
   "cell_type": "code",
   "execution_count": 57,
   "metadata": {},
   "outputs": [],
   "source": [
    "#replace missing values in the original_title column with the primary title\n",
    "imdb_title_basics['original_title'] = imdb_title_basics['original_title'].fillna(imdb_title_basics['primary_title'])\n",
    "\n",
    "# replace  missing values of the runtime_minutes with the median value\n",
    "imdb_title_basics['runtime_minutes'] = imdb_title_basics['runtime_minutes'].fillna(imdb_title_basics['runtime_minutes'].median())\n",
    "\n",
    "#drop the missing values in the genres column\n",
    "imdb_title_basics = imdb_title_basics.dropna(subset=['genres'])"
   ]
  },
  {
   "attachments": {},
   "cell_type": "markdown",
   "metadata": {},
   "source": [
    "###  Check for duplicate values"
   ]
  },
  {
   "attachments": {},
   "cell_type": "markdown",
   "metadata": {},
   "source": [
    "We'll use the below code to filter out duplicate for each dataset"
   ]
  },
  {
   "cell_type": "code",
   "execution_count": 58,
   "metadata": {},
   "outputs": [
    {
     "data": {
      "text/html": [
       "<div>\n",
       "<style scoped>\n",
       "    .dataframe tbody tr th:only-of-type {\n",
       "        vertical-align: middle;\n",
       "    }\n",
       "\n",
       "    .dataframe tbody tr th {\n",
       "        vertical-align: top;\n",
       "    }\n",
       "\n",
       "    .dataframe thead th {\n",
       "        text-align: right;\n",
       "    }\n",
       "</style>\n",
       "<table border=\"1\" class=\"dataframe\">\n",
       "  <thead>\n",
       "    <tr style=\"text-align: right;\">\n",
       "      <th></th>\n",
       "      <th>tconst</th>\n",
       "      <th>averagerating</th>\n",
       "      <th>numvotes</th>\n",
       "    </tr>\n",
       "  </thead>\n",
       "  <tbody>\n",
       "  </tbody>\n",
       "</table>\n",
       "</div>"
      ],
      "text/plain": [
       "Empty DataFrame\n",
       "Columns: [tconst, averagerating, numvotes]\n",
       "Index: []"
      ]
     },
     "execution_count": 58,
     "metadata": {},
     "output_type": "execute_result"
    }
   ],
   "source": [
    "\n",
    "#check duplicate records for imdb_ratings dataframe\n",
    "imdb_ratings[imdb_ratings.duplicated(keep=False, subset=['tconst'])].sort_values(by='tconst')"
   ]
  },
  {
   "attachments": {},
   "cell_type": "markdown",
   "metadata": {},
   "source": [
    "From the above output,Imdb_ratings doesn't have any duplicates because `tconst` is a unique identifier value."
   ]
  },
  {
   "cell_type": "code",
   "execution_count": 59,
   "metadata": {},
   "outputs": [
    {
     "data": {
      "text/html": [
       "<div>\n",
       "<style scoped>\n",
       "    .dataframe tbody tr th:only-of-type {\n",
       "        vertical-align: middle;\n",
       "    }\n",
       "\n",
       "    .dataframe tbody tr th {\n",
       "        vertical-align: top;\n",
       "    }\n",
       "\n",
       "    .dataframe thead th {\n",
       "        text-align: right;\n",
       "    }\n",
       "</style>\n",
       "<table border=\"1\" class=\"dataframe\">\n",
       "  <thead>\n",
       "    <tr style=\"text-align: right;\">\n",
       "      <th></th>\n",
       "      <th>title</th>\n",
       "      <th>studio</th>\n",
       "      <th>domestic_gross</th>\n",
       "      <th>foreign_gross</th>\n",
       "      <th>year</th>\n",
       "    </tr>\n",
       "  </thead>\n",
       "  <tbody>\n",
       "    <tr>\n",
       "      <th>317</th>\n",
       "      <td>Bluebeard</td>\n",
       "      <td>Strand</td>\n",
       "      <td>33500.0</td>\n",
       "      <td>5200</td>\n",
       "      <td>2010</td>\n",
       "    </tr>\n",
       "    <tr>\n",
       "      <th>3045</th>\n",
       "      <td>Bluebeard</td>\n",
       "      <td>WGUSA</td>\n",
       "      <td>43100.0</td>\n",
       "      <td>0</td>\n",
       "      <td>2017</td>\n",
       "    </tr>\n",
       "  </tbody>\n",
       "</table>\n",
       "</div>"
      ],
      "text/plain": [
       "          title  studio  domestic_gross foreign_gross  year\n",
       "317   Bluebeard  Strand         33500.0          5200  2010\n",
       "3045  Bluebeard   WGUSA         43100.0             0  2017"
      ]
     },
     "execution_count": 59,
     "metadata": {},
     "output_type": "execute_result"
    }
   ],
   "source": [
    "#display all duplicate records for movie gross 'title' column\n",
    "movie_gross[movie_gross.duplicated(keep=False, subset='title')].sort_values(by='title')"
   ]
  },
  {
   "attachments": {},
   "cell_type": "markdown",
   "metadata": {},
   "source": [
    "By further analysing this entries, each stands out to be a different movie and not duplicate values. Different year, studios and gross amount."
   ]
  },
  {
   "cell_type": "code",
   "execution_count": 63,
   "metadata": {},
   "outputs": [
    {
     "data": {
      "text/html": [
       "<div>\n",
       "<style scoped>\n",
       "    .dataframe tbody tr th:only-of-type {\n",
       "        vertical-align: middle;\n",
       "    }\n",
       "\n",
       "    .dataframe tbody tr th {\n",
       "        vertical-align: top;\n",
       "    }\n",
       "\n",
       "    .dataframe thead th {\n",
       "        text-align: right;\n",
       "    }\n",
       "</style>\n",
       "<table border=\"1\" class=\"dataframe\">\n",
       "  <thead>\n",
       "    <tr style=\"text-align: right;\">\n",
       "      <th></th>\n",
       "      <th>tconst</th>\n",
       "      <th>primary_title</th>\n",
       "      <th>original_title</th>\n",
       "      <th>start_year</th>\n",
       "      <th>runtime_minutes</th>\n",
       "      <th>genres</th>\n",
       "    </tr>\n",
       "  </thead>\n",
       "  <tbody>\n",
       "    <tr>\n",
       "      <th>51820</th>\n",
       "      <td>tt3072686</td>\n",
       "      <td>5 People</td>\n",
       "      <td>5 People</td>\n",
       "      <td>2013</td>\n",
       "      <td>87.0</td>\n",
       "      <td>Thriller</td>\n",
       "    </tr>\n",
       "    <tr>\n",
       "      <th>55539</th>\n",
       "      <td>tt3252324</td>\n",
       "      <td>5 People</td>\n",
       "      <td>5 People</td>\n",
       "      <td>2013</td>\n",
       "      <td>87.0</td>\n",
       "      <td>Comedy,Drama,Thriller</td>\n",
       "    </tr>\n",
       "    <tr>\n",
       "      <th>46602</th>\n",
       "      <td>tt2771990</td>\n",
       "      <td>7 Days</td>\n",
       "      <td>7 Days</td>\n",
       "      <td>2015</td>\n",
       "      <td>87.0</td>\n",
       "      <td>Sci-Fi</td>\n",
       "    </tr>\n",
       "    <tr>\n",
       "      <th>88065</th>\n",
       "      <td>tt5112592</td>\n",
       "      <td>7 Days</td>\n",
       "      <td>Nanoka</td>\n",
       "      <td>2015</td>\n",
       "      <td>110.0</td>\n",
       "      <td>Drama</td>\n",
       "    </tr>\n",
       "    <tr>\n",
       "      <th>104504</th>\n",
       "      <td>tt6111436</td>\n",
       "      <td>88</td>\n",
       "      <td>88</td>\n",
       "      <td>2016</td>\n",
       "      <td>102.0</td>\n",
       "      <td>Documentary</td>\n",
       "    </tr>\n",
       "    <tr>\n",
       "      <th>105408</th>\n",
       "      <td>tt6160528</td>\n",
       "      <td>88</td>\n",
       "      <td>88</td>\n",
       "      <td>2016</td>\n",
       "      <td>103.0</td>\n",
       "      <td>Documentary</td>\n",
       "    </tr>\n",
       "    <tr>\n",
       "      <th>86522</th>\n",
       "      <td>tt5017134</td>\n",
       "      <td>8:30</td>\n",
       "      <td>8:30</td>\n",
       "      <td>2017</td>\n",
       "      <td>70.0</td>\n",
       "      <td>Mystery</td>\n",
       "    </tr>\n",
       "    <tr>\n",
       "      <th>114899</th>\n",
       "      <td>tt6804666</td>\n",
       "      <td>8:30</td>\n",
       "      <td>8:30</td>\n",
       "      <td>2017</td>\n",
       "      <td>70.0</td>\n",
       "      <td>Mystery</td>\n",
       "    </tr>\n",
       "    <tr>\n",
       "      <th>31052</th>\n",
       "      <td>tt2180277</td>\n",
       "      <td>90 Minutes</td>\n",
       "      <td>90 minutter</td>\n",
       "      <td>2012</td>\n",
       "      <td>88.0</td>\n",
       "      <td>Drama</td>\n",
       "    </tr>\n",
       "    <tr>\n",
       "      <th>51474</th>\n",
       "      <td>tt3054786</td>\n",
       "      <td>90 Minutes</td>\n",
       "      <td>90 Minutes</td>\n",
       "      <td>2012</td>\n",
       "      <td>94.0</td>\n",
       "      <td>Thriller</td>\n",
       "    </tr>\n",
       "    <tr>\n",
       "      <th>115249</th>\n",
       "      <td>tt6834356</td>\n",
       "      <td>96</td>\n",
       "      <td>96</td>\n",
       "      <td>2018</td>\n",
       "      <td>87.0</td>\n",
       "      <td>Crime,Mystery,Thriller</td>\n",
       "    </tr>\n",
       "    <tr>\n",
       "      <th>117657</th>\n",
       "      <td>tt7019842</td>\n",
       "      <td>96</td>\n",
       "      <td>96</td>\n",
       "      <td>2018</td>\n",
       "      <td>158.0</td>\n",
       "      <td>Drama,Romance</td>\n",
       "    </tr>\n",
       "    <tr>\n",
       "      <th>104657</th>\n",
       "      <td>tt6119224</td>\n",
       "      <td>A Ballad of Maladies</td>\n",
       "      <td>A Ballad of Maladies</td>\n",
       "      <td>2016</td>\n",
       "      <td>86.0</td>\n",
       "      <td>Documentary,Music</td>\n",
       "    </tr>\n",
       "    <tr>\n",
       "      <th>105960</th>\n",
       "      <td>tt6200522</td>\n",
       "      <td>A Ballad of Maladies</td>\n",
       "      <td>A Ballad of Maladies</td>\n",
       "      <td>2016</td>\n",
       "      <td>86.0</td>\n",
       "      <td>Documentary,History,Music</td>\n",
       "    </tr>\n",
       "    <tr>\n",
       "      <th>9344</th>\n",
       "      <td>tt1554091</td>\n",
       "      <td>A Better Life</td>\n",
       "      <td>A Better Life</td>\n",
       "      <td>2011</td>\n",
       "      <td>98.0</td>\n",
       "      <td>Drama,Romance</td>\n",
       "    </tr>\n",
       "    <tr>\n",
       "      <th>25786</th>\n",
       "      <td>tt2027265</td>\n",
       "      <td>A Better Life</td>\n",
       "      <td>Une vie meilleure</td>\n",
       "      <td>2011</td>\n",
       "      <td>110.0</td>\n",
       "      <td>Drama</td>\n",
       "    </tr>\n",
       "    <tr>\n",
       "      <th>76703</th>\n",
       "      <td>tt4387314</td>\n",
       "      <td>A Christmas Carol</td>\n",
       "      <td>A Christmas Carol</td>\n",
       "      <td>2018</td>\n",
       "      <td>87.0</td>\n",
       "      <td>Fantasy</td>\n",
       "    </tr>\n",
       "    <tr>\n",
       "      <th>131996</th>\n",
       "      <td>tt8232648</td>\n",
       "      <td>A Christmas Carol</td>\n",
       "      <td>A Christmas Carol</td>\n",
       "      <td>2018</td>\n",
       "      <td>81.0</td>\n",
       "      <td>Drama</td>\n",
       "    </tr>\n",
       "    <tr>\n",
       "      <th>142558</th>\n",
       "      <td>tt9387380</td>\n",
       "      <td>A Christmas Carol</td>\n",
       "      <td>A Christmas Carol</td>\n",
       "      <td>2018</td>\n",
       "      <td>121.0</td>\n",
       "      <td>Drama,Family,Musical</td>\n",
       "    </tr>\n",
       "    <tr>\n",
       "      <th>142749</th>\n",
       "      <td>tt9416854</td>\n",
       "      <td>A Christmas Carol</td>\n",
       "      <td>A Christmas Carol</td>\n",
       "      <td>2018</td>\n",
       "      <td>51.0</td>\n",
       "      <td>Animation</td>\n",
       "    </tr>\n",
       "    <tr>\n",
       "      <th>132745</th>\n",
       "      <td>tt8308496</td>\n",
       "      <td>A Coach's Daughter</td>\n",
       "      <td>Córka trenera</td>\n",
       "      <td>2018</td>\n",
       "      <td>93.0</td>\n",
       "      <td>Drama</td>\n",
       "    </tr>\n",
       "    <tr>\n",
       "      <th>143706</th>\n",
       "      <td>tt9570418</td>\n",
       "      <td>A Coach's Daughter</td>\n",
       "      <td>A Coach's Daughter</td>\n",
       "      <td>2018</td>\n",
       "      <td>95.0</td>\n",
       "      <td>Drama</td>\n",
       "    </tr>\n",
       "    <tr>\n",
       "      <th>73546</th>\n",
       "      <td>tt4191350</td>\n",
       "      <td>A Courtship</td>\n",
       "      <td>A Courtship</td>\n",
       "      <td>2015</td>\n",
       "      <td>71.0</td>\n",
       "      <td>Documentary,Romance</td>\n",
       "    </tr>\n",
       "    <tr>\n",
       "      <th>88715</th>\n",
       "      <td>tt5136180</td>\n",
       "      <td>A Courtship</td>\n",
       "      <td>A Courtship</td>\n",
       "      <td>2015</td>\n",
       "      <td>71.0</td>\n",
       "      <td>Documentary</td>\n",
       "    </tr>\n",
       "    <tr>\n",
       "      <th>101588</th>\n",
       "      <td>tt5936866</td>\n",
       "      <td>A Dark Place</td>\n",
       "      <td>Steel Country</td>\n",
       "      <td>2018</td>\n",
       "      <td>89.0</td>\n",
       "      <td>Mystery,Thriller</td>\n",
       "    </tr>\n",
       "  </tbody>\n",
       "</table>\n",
       "</div>"
      ],
      "text/plain": [
       "           tconst         primary_title        original_title  start_year  \\\n",
       "51820   tt3072686              5 People              5 People        2013   \n",
       "55539   tt3252324              5 People              5 People        2013   \n",
       "46602   tt2771990                7 Days                7 Days        2015   \n",
       "88065   tt5112592                7 Days                Nanoka        2015   \n",
       "104504  tt6111436                    88                    88        2016   \n",
       "105408  tt6160528                    88                    88        2016   \n",
       "86522   tt5017134                  8:30                  8:30        2017   \n",
       "114899  tt6804666                  8:30                  8:30        2017   \n",
       "31052   tt2180277            90 Minutes           90 minutter        2012   \n",
       "51474   tt3054786            90 Minutes            90 Minutes        2012   \n",
       "115249  tt6834356                    96                    96        2018   \n",
       "117657  tt7019842                    96                    96        2018   \n",
       "104657  tt6119224  A Ballad of Maladies  A Ballad of Maladies        2016   \n",
       "105960  tt6200522  A Ballad of Maladies  A Ballad of Maladies        2016   \n",
       "9344    tt1554091         A Better Life         A Better Life        2011   \n",
       "25786   tt2027265         A Better Life     Une vie meilleure        2011   \n",
       "76703   tt4387314     A Christmas Carol     A Christmas Carol        2018   \n",
       "131996  tt8232648     A Christmas Carol     A Christmas Carol        2018   \n",
       "142558  tt9387380     A Christmas Carol     A Christmas Carol        2018   \n",
       "142749  tt9416854     A Christmas Carol     A Christmas Carol        2018   \n",
       "132745  tt8308496    A Coach's Daughter         Córka trenera        2018   \n",
       "143706  tt9570418    A Coach's Daughter    A Coach's Daughter        2018   \n",
       "73546   tt4191350           A Courtship           A Courtship        2015   \n",
       "88715   tt5136180           A Courtship           A Courtship        2015   \n",
       "101588  tt5936866          A Dark Place         Steel Country        2018   \n",
       "\n",
       "        runtime_minutes                     genres  \n",
       "51820              87.0                   Thriller  \n",
       "55539              87.0      Comedy,Drama,Thriller  \n",
       "46602              87.0                     Sci-Fi  \n",
       "88065             110.0                      Drama  \n",
       "104504            102.0                Documentary  \n",
       "105408            103.0                Documentary  \n",
       "86522              70.0                    Mystery  \n",
       "114899             70.0                    Mystery  \n",
       "31052              88.0                      Drama  \n",
       "51474              94.0                   Thriller  \n",
       "115249             87.0     Crime,Mystery,Thriller  \n",
       "117657            158.0              Drama,Romance  \n",
       "104657             86.0          Documentary,Music  \n",
       "105960             86.0  Documentary,History,Music  \n",
       "9344               98.0              Drama,Romance  \n",
       "25786             110.0                      Drama  \n",
       "76703              87.0                    Fantasy  \n",
       "131996             81.0                      Drama  \n",
       "142558            121.0       Drama,Family,Musical  \n",
       "142749             51.0                  Animation  \n",
       "132745             93.0                      Drama  \n",
       "143706             95.0                      Drama  \n",
       "73546              71.0        Documentary,Romance  \n",
       "88715              71.0                Documentary  \n",
       "101588             89.0           Mystery,Thriller  "
      ]
     },
     "execution_count": 63,
     "metadata": {},
     "output_type": "execute_result"
    }
   ],
   "source": [
    "#display all duplicate records for imdb_title_basics dataframe using 'primary_title','start_year' and 'genres' columns\n",
    "imdb_title_basics[imdb_title_basics.duplicated(keep=False, subset=['primary_title','start_year'])].sort_values(by=['primary_title','start_year'])[25:50]"
   ]
  },
  {
   "attachments": {},
   "cell_type": "markdown",
   "metadata": {},
   "source": [
    "`imdb_title_basics` has duplicate records based on the `primary_title` and the `start_year`. Some of the duplicate records have slightly different genres while others have missing values in either the runtime_minutes or genre columns. <br>\n",
    "The duplicate records will be dropped, while keeping the entry with the least number of missing values."
   ]
  },
  {
   "cell_type": "code",
   "execution_count": 65,
   "metadata": {},
   "outputs": [
    {
     "data": {
      "text/html": [
       "<div>\n",
       "<style scoped>\n",
       "    .dataframe tbody tr th:only-of-type {\n",
       "        vertical-align: middle;\n",
       "    }\n",
       "\n",
       "    .dataframe tbody tr th {\n",
       "        vertical-align: top;\n",
       "    }\n",
       "\n",
       "    .dataframe thead th {\n",
       "        text-align: right;\n",
       "    }\n",
       "</style>\n",
       "<table border=\"1\" class=\"dataframe\">\n",
       "  <thead>\n",
       "    <tr style=\"text-align: right;\">\n",
       "      <th></th>\n",
       "      <th>tconst</th>\n",
       "      <th>primary_title</th>\n",
       "      <th>original_title</th>\n",
       "      <th>start_year</th>\n",
       "      <th>runtime_minutes</th>\n",
       "      <th>genres</th>\n",
       "      <th>missing</th>\n",
       "    </tr>\n",
       "  </thead>\n",
       "  <tbody>\n",
       "    <tr>\n",
       "      <th>103890</th>\n",
       "      <td>tt6085916</td>\n",
       "      <td>(aguirre)</td>\n",
       "      <td>(aguirre)</td>\n",
       "      <td>2016</td>\n",
       "      <td>97.0</td>\n",
       "      <td>Biography,Documentary</td>\n",
       "      <td>0</td>\n",
       "    </tr>\n",
       "    <tr>\n",
       "      <th>106201</th>\n",
       "      <td>tt6214664</td>\n",
       "      <td>(aguirre)</td>\n",
       "      <td>(aguirre)</td>\n",
       "      <td>2016</td>\n",
       "      <td>98.0</td>\n",
       "      <td>Biography,Comedy,Documentary</td>\n",
       "      <td>0</td>\n",
       "    </tr>\n",
       "    <tr>\n",
       "      <th>129962</th>\n",
       "      <td>tt8032828</td>\n",
       "      <td>100 Milioni di bracciate</td>\n",
       "      <td>100 Milioni di bracciate</td>\n",
       "      <td>2017</td>\n",
       "      <td>87.0</td>\n",
       "      <td>Biography</td>\n",
       "      <td>0</td>\n",
       "    </tr>\n",
       "    <tr>\n",
       "      <th>129979</th>\n",
       "      <td>tt8034014</td>\n",
       "      <td>100 Milioni di bracciate</td>\n",
       "      <td>100 Milioni di bracciate</td>\n",
       "      <td>2017</td>\n",
       "      <td>87.0</td>\n",
       "      <td>Biography</td>\n",
       "      <td>0</td>\n",
       "    </tr>\n",
       "    <tr>\n",
       "      <th>20394</th>\n",
       "      <td>tt1855110</td>\n",
       "      <td>180</td>\n",
       "      <td>180</td>\n",
       "      <td>2011</td>\n",
       "      <td>121.0</td>\n",
       "      <td>Drama,Romance</td>\n",
       "      <td>0</td>\n",
       "    </tr>\n",
       "    <tr>\n",
       "      <th>24194</th>\n",
       "      <td>tt1979163</td>\n",
       "      <td>180</td>\n",
       "      <td>180</td>\n",
       "      <td>2011</td>\n",
       "      <td>107.0</td>\n",
       "      <td>Comedy,Drama</td>\n",
       "      <td>0</td>\n",
       "    </tr>\n",
       "    <tr>\n",
       "      <th>65431</th>\n",
       "      <td>tt3735338</td>\n",
       "      <td>1989</td>\n",
       "      <td>1989</td>\n",
       "      <td>2014</td>\n",
       "      <td>54.0</td>\n",
       "      <td>Documentary</td>\n",
       "      <td>0</td>\n",
       "    </tr>\n",
       "    <tr>\n",
       "      <th>72121</th>\n",
       "      <td>tt4119270</td>\n",
       "      <td>1989</td>\n",
       "      <td>1989</td>\n",
       "      <td>2014</td>\n",
       "      <td>97.0</td>\n",
       "      <td>Documentary,History,Thriller</td>\n",
       "      <td>0</td>\n",
       "    </tr>\n",
       "    <tr>\n",
       "      <th>50212</th>\n",
       "      <td>tt2979366</td>\n",
       "      <td>21 Days</td>\n",
       "      <td>21 Days</td>\n",
       "      <td>2014</td>\n",
       "      <td>89.0</td>\n",
       "      <td>Horror,Thriller</td>\n",
       "      <td>0</td>\n",
       "    </tr>\n",
       "    <tr>\n",
       "      <th>75495</th>\n",
       "      <td>tt4312624</td>\n",
       "      <td>21 Days</td>\n",
       "      <td>21 den</td>\n",
       "      <td>2014</td>\n",
       "      <td>70.0</td>\n",
       "      <td>Documentary</td>\n",
       "      <td>0</td>\n",
       "    </tr>\n",
       "    <tr>\n",
       "      <th>86006</th>\n",
       "      <td>tt4981966</td>\n",
       "      <td>24</td>\n",
       "      <td>24</td>\n",
       "      <td>2016</td>\n",
       "      <td>164.0</td>\n",
       "      <td>Action,Sci-Fi,Thriller</td>\n",
       "      <td>0</td>\n",
       "    </tr>\n",
       "    <tr>\n",
       "      <th>98602</th>\n",
       "      <td>tt5765582</td>\n",
       "      <td>24</td>\n",
       "      <td>24</td>\n",
       "      <td>2016</td>\n",
       "      <td>87.0</td>\n",
       "      <td>Thriller</td>\n",
       "      <td>0</td>\n",
       "    </tr>\n",
       "    <tr>\n",
       "      <th>29202</th>\n",
       "      <td>tt2123129</td>\n",
       "      <td>3</td>\n",
       "      <td>3</td>\n",
       "      <td>2012</td>\n",
       "      <td>145.0</td>\n",
       "      <td>Drama,Mystery,Romance</td>\n",
       "      <td>0</td>\n",
       "    </tr>\n",
       "    <tr>\n",
       "      <th>38370</th>\n",
       "      <td>tt2379653</td>\n",
       "      <td>3</td>\n",
       "      <td>3</td>\n",
       "      <td>2012</td>\n",
       "      <td>115.0</td>\n",
       "      <td>Comedy,Drama</td>\n",
       "      <td>0</td>\n",
       "    </tr>\n",
       "    <tr>\n",
       "      <th>96327</th>\n",
       "      <td>tt5618160</td>\n",
       "      <td>3</td>\n",
       "      <td>3</td>\n",
       "      <td>2018</td>\n",
       "      <td>80.0</td>\n",
       "      <td>Horror,Mystery,Thriller</td>\n",
       "      <td>0</td>\n",
       "    </tr>\n",
       "    <tr>\n",
       "      <th>135287</th>\n",
       "      <td>tt8558372</td>\n",
       "      <td>3</td>\n",
       "      <td>3</td>\n",
       "      <td>2018</td>\n",
       "      <td>17.0</td>\n",
       "      <td>Documentary</td>\n",
       "      <td>0</td>\n",
       "    </tr>\n",
       "    <tr>\n",
       "      <th>144337</th>\n",
       "      <td>tt9653930</td>\n",
       "      <td>3. Elma</td>\n",
       "      <td>3. Elma</td>\n",
       "      <td>2014</td>\n",
       "      <td>65.0</td>\n",
       "      <td>Drama</td>\n",
       "      <td>0</td>\n",
       "    </tr>\n",
       "    <tr>\n",
       "      <th>144392</th>\n",
       "      <td>tt9660588</td>\n",
       "      <td>3. Elma</td>\n",
       "      <td>3. Elma</td>\n",
       "      <td>2014</td>\n",
       "      <td>65.0</td>\n",
       "      <td>Drama</td>\n",
       "      <td>0</td>\n",
       "    </tr>\n",
       "    <tr>\n",
       "      <th>145118</th>\n",
       "      <td>tt9773302</td>\n",
       "      <td>3. Elma</td>\n",
       "      <td>3. Elma</td>\n",
       "      <td>2014</td>\n",
       "      <td>65.0</td>\n",
       "      <td>Drama</td>\n",
       "      <td>0</td>\n",
       "    </tr>\n",
       "    <tr>\n",
       "      <th>59640</th>\n",
       "      <td>tt3463230</td>\n",
       "      <td>37</td>\n",
       "      <td>37</td>\n",
       "      <td>2018</td>\n",
       "      <td>90.0</td>\n",
       "      <td>Drama</td>\n",
       "      <td>0</td>\n",
       "    </tr>\n",
       "  </tbody>\n",
       "</table>\n",
       "</div>"
      ],
      "text/plain": [
       "           tconst             primary_title            original_title  \\\n",
       "103890  tt6085916                 (aguirre)                 (aguirre)   \n",
       "106201  tt6214664                 (aguirre)                 (aguirre)   \n",
       "129962  tt8032828  100 Milioni di bracciate  100 Milioni di bracciate   \n",
       "129979  tt8034014  100 Milioni di bracciate  100 Milioni di bracciate   \n",
       "20394   tt1855110                       180                       180   \n",
       "24194   tt1979163                       180                       180   \n",
       "65431   tt3735338                      1989                      1989   \n",
       "72121   tt4119270                      1989                      1989   \n",
       "50212   tt2979366                   21 Days                   21 Days   \n",
       "75495   tt4312624                   21 Days                    21 den   \n",
       "86006   tt4981966                        24                        24   \n",
       "98602   tt5765582                        24                        24   \n",
       "29202   tt2123129                         3                         3   \n",
       "38370   tt2379653                         3                         3   \n",
       "96327   tt5618160                         3                         3   \n",
       "135287  tt8558372                         3                         3   \n",
       "144337  tt9653930                   3. Elma                   3. Elma   \n",
       "144392  tt9660588                   3. Elma                   3. Elma   \n",
       "145118  tt9773302                   3. Elma                   3. Elma   \n",
       "59640   tt3463230                        37                        37   \n",
       "\n",
       "        start_year  runtime_minutes                        genres  missing  \n",
       "103890        2016             97.0         Biography,Documentary        0  \n",
       "106201        2016             98.0  Biography,Comedy,Documentary        0  \n",
       "129962        2017             87.0                     Biography        0  \n",
       "129979        2017             87.0                     Biography        0  \n",
       "20394         2011            121.0                 Drama,Romance        0  \n",
       "24194         2011            107.0                  Comedy,Drama        0  \n",
       "65431         2014             54.0                   Documentary        0  \n",
       "72121         2014             97.0  Documentary,History,Thriller        0  \n",
       "50212         2014             89.0               Horror,Thriller        0  \n",
       "75495         2014             70.0                   Documentary        0  \n",
       "86006         2016            164.0        Action,Sci-Fi,Thriller        0  \n",
       "98602         2016             87.0                      Thriller        0  \n",
       "29202         2012            145.0         Drama,Mystery,Romance        0  \n",
       "38370         2012            115.0                  Comedy,Drama        0  \n",
       "96327         2018             80.0       Horror,Mystery,Thriller        0  \n",
       "135287        2018             17.0                   Documentary        0  \n",
       "144337        2014             65.0                         Drama        0  \n",
       "144392        2014             65.0                         Drama        0  \n",
       "145118        2014             65.0                         Drama        0  \n",
       "59640         2018             90.0                         Drama        0  "
      ]
     },
     "execution_count": 65,
     "metadata": {},
     "output_type": "execute_result"
    }
   ],
   "source": [
    "#assign a different variable name to a copy of the imdb_title_basics dataframe\n",
    "imdb_title_df = imdb_title_basics.copy()\n",
    "\n",
    "#assign a new column, 'missing', to the sum of missing values in each row\n",
    "#sort the dataframe by values of the 'primary_title' and 'missing'\n",
    "imdb_title_df = imdb_title_df.assign(missing=imdb_title_df.isnull().sum(axis=1)).sort_values(by=['primary_title', 'missing'], ascending=True)\n",
    "\n",
    "# preview of duplicated records\n",
    "imdb_title_df[imdb_title_df.duplicated(keep=False, subset=['primary_title','start_year'])][:20]"
   ]
  },
  {
   "cell_type": "markdown",
   "metadata": {},
   "source": [
    "Then, we drop duplicates to obatin values entries with least missing values"
   ]
  },
  {
   "cell_type": "code",
   "execution_count": 67,
   "metadata": {},
   "outputs": [],
   "source": [
    "imdb_title_df = imdb_title_df.drop_duplicates(keep='first', subset=['primary_title','start_year']).drop(columns='missing')"
   ]
  },
  {
   "cell_type": "markdown",
   "metadata": {},
   "source": [
    "To check for any more duplicates:"
   ]
  },
  {
   "cell_type": "code",
   "execution_count": 68,
   "metadata": {},
   "outputs": [
    {
     "data": {
      "text/html": [
       "<div>\n",
       "<style scoped>\n",
       "    .dataframe tbody tr th:only-of-type {\n",
       "        vertical-align: middle;\n",
       "    }\n",
       "\n",
       "    .dataframe tbody tr th {\n",
       "        vertical-align: top;\n",
       "    }\n",
       "\n",
       "    .dataframe thead th {\n",
       "        text-align: right;\n",
       "    }\n",
       "</style>\n",
       "<table border=\"1\" class=\"dataframe\">\n",
       "  <thead>\n",
       "    <tr style=\"text-align: right;\">\n",
       "      <th></th>\n",
       "      <th>tconst</th>\n",
       "      <th>primary_title</th>\n",
       "      <th>original_title</th>\n",
       "      <th>start_year</th>\n",
       "      <th>runtime_minutes</th>\n",
       "      <th>genres</th>\n",
       "    </tr>\n",
       "  </thead>\n",
       "  <tbody>\n",
       "  </tbody>\n",
       "</table>\n",
       "</div>"
      ],
      "text/plain": [
       "Empty DataFrame\n",
       "Columns: [tconst, primary_title, original_title, start_year, runtime_minutes, genres]\n",
       "Index: []"
      ]
     },
     "execution_count": 68,
     "metadata": {},
     "output_type": "execute_result"
    }
   ],
   "source": [
    "#recheck for duplicates\n",
    "imdb_title_df[imdb_title_df.duplicated(keep=False, subset=['primary_title','start_year'])].sort_values(by=['primary_title','start_year'])"
   ]
  },
  {
   "attachments": {},
   "cell_type": "markdown",
   "metadata": {},
   "source": [
    "### Amend data types"
   ]
  },
  {
   "attachments": {},
   "cell_type": "markdown",
   "metadata": {},
   "source": [
    "Each column should have correspondingly valid data types so that analsysis can occur without any hitches. The function `df_inspect` contains a method `.info` that provides information for each dataset passed through. <br>\n",
    "\n",
    "We can find the dataype for each column using `.dtypes` . As below :"
   ]
  },
  {
   "cell_type": "code",
   "execution_count": 113,
   "metadata": {},
   "outputs": [
    {
     "name": "stdout",
     "output_type": "stream",
     "text": [
      "movie gross data types: \n",
      " title              object\n",
      "studio             object\n",
      "domestic_gross    float64\n",
      "foreign_gross      object\n",
      "year                int64\n",
      "dtype: object \n",
      " ---\n",
      "\n",
      " imdb title  data types: \n",
      " tconst              object\n",
      "primary_title       object\n",
      "original_title      object\n",
      "start_year           int64\n",
      "runtime_minutes    float64\n",
      "genres              object\n",
      "dtype: object \n",
      " ---\n",
      "\n",
      " imdb ratings data types: \n",
      " tconst            object\n",
      "averagerating    float64\n",
      "numvotes           int64\n",
      "dtype: object \n",
      " ---\n"
     ]
    }
   ],
   "source": [
    "#check the data type of each column \n",
    "print(f'movie gross data types: \\n {movie_gross.dtypes} \\n ---')\n",
    "print(f'\\n imdb title  data types: \\n {imdb_title_df.dtypes} \\n ---')\n",
    "print(f'\\n imdb ratings data types: \\n {imdb_ratings.dtypes} \\n ---')"
   ]
  },
  {
   "attachments": {},
   "cell_type": "markdown",
   "metadata": {},
   "source": [
    "Notice that column foreign_gross has object values instead of float values to represent number values. So we convert to float values :\n"
   ]
  },
  {
   "cell_type": "code",
   "execution_count": 70,
   "metadata": {},
   "outputs": [],
   "source": [
    "#Convert the data type of the foreign_gross column from object to float\n",
    "movie_gross['foreign_gross'] = movie_gross['foreign_gross'].str.replace(\",\",\"\").apply(float)"
   ]
  },
  {
   "attachments": {},
   "cell_type": "markdown",
   "metadata": {},
   "source": [
    "We call out the type of `foreign_gross` to confirm :"
   ]
  },
  {
   "cell_type": "code",
   "execution_count": 71,
   "metadata": {},
   "outputs": [
    {
     "data": {
      "text/plain": [
       "dtype('float64')"
      ]
     },
     "execution_count": 71,
     "metadata": {},
     "output_type": "execute_result"
    }
   ],
   "source": [
    "movie_gross['foreign_gross'].dtype"
   ]
  },
  {
   "attachments": {},
   "cell_type": "markdown",
   "metadata": {},
   "source": [
    "### Amend error values"
   ]
  },
  {
   "attachments": {},
   "cell_type": "markdown",
   "metadata": {},
   "source": [
    "In the Boc office dataset, we notice there are movie that have pre-planned release year(under `start_year` column). So, we align data upto year of current record(2022):"
   ]
  },
  {
   "cell_type": "code",
   "execution_count": 72,
   "metadata": {},
   "outputs": [
    {
     "data": {
      "text/html": [
       "<div>\n",
       "<style scoped>\n",
       "    .dataframe tbody tr th:only-of-type {\n",
       "        vertical-align: middle;\n",
       "    }\n",
       "\n",
       "    .dataframe tbody tr th {\n",
       "        vertical-align: top;\n",
       "    }\n",
       "\n",
       "    .dataframe thead th {\n",
       "        text-align: right;\n",
       "    }\n",
       "</style>\n",
       "<table border=\"1\" class=\"dataframe\">\n",
       "  <thead>\n",
       "    <tr style=\"text-align: right;\">\n",
       "      <th></th>\n",
       "      <th>tconst</th>\n",
       "      <th>primary_title</th>\n",
       "      <th>original_title</th>\n",
       "      <th>start_year</th>\n",
       "      <th>runtime_minutes</th>\n",
       "      <th>genres</th>\n",
       "    </tr>\n",
       "  </thead>\n",
       "  <tbody>\n",
       "    <tr>\n",
       "      <th>89506</th>\n",
       "      <td>tt5174640</td>\n",
       "      <td>100 Years</td>\n",
       "      <td>100 Years</td>\n",
       "      <td>2115</td>\n",
       "      <td>87.0</td>\n",
       "      <td>Drama</td>\n",
       "    </tr>\n",
       "    <tr>\n",
       "      <th>16337</th>\n",
       "      <td>tt1757678</td>\n",
       "      <td>Avatar 3</td>\n",
       "      <td>Avatar 3</td>\n",
       "      <td>2023</td>\n",
       "      <td>87.0</td>\n",
       "      <td>Action,Adventure,Drama</td>\n",
       "    </tr>\n",
       "    <tr>\n",
       "      <th>52213</th>\n",
       "      <td>tt3095356</td>\n",
       "      <td>Avatar 4</td>\n",
       "      <td>Avatar 4</td>\n",
       "      <td>2025</td>\n",
       "      <td>87.0</td>\n",
       "      <td>Action,Adventure,Fantasy</td>\n",
       "    </tr>\n",
       "    <tr>\n",
       "      <th>96592</th>\n",
       "      <td>tt5637536</td>\n",
       "      <td>Avatar 5</td>\n",
       "      <td>Avatar 5</td>\n",
       "      <td>2027</td>\n",
       "      <td>87.0</td>\n",
       "      <td>Action,Adventure,Fantasy</td>\n",
       "    </tr>\n",
       "    <tr>\n",
       "      <th>105187</th>\n",
       "      <td>tt6149054</td>\n",
       "      <td>Fantastic Beasts and Where to Find Them 5</td>\n",
       "      <td>Fantastic Beasts and Where to Find Them 5</td>\n",
       "      <td>2024</td>\n",
       "      <td>87.0</td>\n",
       "      <td>Adventure,Family,Fantasy</td>\n",
       "    </tr>\n",
       "    <tr>\n",
       "      <th>2483</th>\n",
       "      <td>tt10255736</td>\n",
       "      <td>Untitled Marvel Project</td>\n",
       "      <td>Untitled Marvel Project</td>\n",
       "      <td>2023</td>\n",
       "      <td>87.0</td>\n",
       "      <td>Action</td>\n",
       "    </tr>\n",
       "    <tr>\n",
       "      <th>2949</th>\n",
       "      <td>tt10300398</td>\n",
       "      <td>Untitled Star Wars Film</td>\n",
       "      <td>Untitled Star Wars Film</td>\n",
       "      <td>2026</td>\n",
       "      <td>87.0</td>\n",
       "      <td>Fantasy</td>\n",
       "    </tr>\n",
       "    <tr>\n",
       "      <th>106865</th>\n",
       "      <td>tt6258542</td>\n",
       "      <td>Wraith of the Umbra and Eidolon II</td>\n",
       "      <td>Wraith of the Umbra and Eidolon II</td>\n",
       "      <td>2023</td>\n",
       "      <td>87.0</td>\n",
       "      <td>Adventure,Drama,Fantasy</td>\n",
       "    </tr>\n",
       "  </tbody>\n",
       "</table>\n",
       "</div>"
      ],
      "text/plain": [
       "            tconst                              primary_title  \\\n",
       "89506    tt5174640                                  100 Years   \n",
       "16337    tt1757678                                   Avatar 3   \n",
       "52213    tt3095356                                   Avatar 4   \n",
       "96592    tt5637536                                   Avatar 5   \n",
       "105187   tt6149054  Fantastic Beasts and Where to Find Them 5   \n",
       "2483    tt10255736                    Untitled Marvel Project   \n",
       "2949    tt10300398                    Untitled Star Wars Film   \n",
       "106865   tt6258542         Wraith of the Umbra and Eidolon II   \n",
       "\n",
       "                                   original_title  start_year  \\\n",
       "89506                                   100 Years        2115   \n",
       "16337                                    Avatar 3        2023   \n",
       "52213                                    Avatar 4        2025   \n",
       "96592                                    Avatar 5        2027   \n",
       "105187  Fantastic Beasts and Where to Find Them 5        2024   \n",
       "2483                      Untitled Marvel Project        2023   \n",
       "2949                      Untitled Star Wars Film        2026   \n",
       "106865         Wraith of the Umbra and Eidolon II        2023   \n",
       "\n",
       "        runtime_minutes                    genres  \n",
       "89506              87.0                     Drama  \n",
       "16337              87.0    Action,Adventure,Drama  \n",
       "52213              87.0  Action,Adventure,Fantasy  \n",
       "96592              87.0  Action,Adventure,Fantasy  \n",
       "105187             87.0  Adventure,Family,Fantasy  \n",
       "2483               87.0                    Action  \n",
       "2949               87.0                   Fantasy  \n",
       "106865             87.0   Adventure,Drama,Fantasy  "
      ]
     },
     "execution_count": 72,
     "metadata": {},
     "output_type": "execute_result"
    }
   ],
   "source": [
    "#check for years greater than 2022 in imdb_title_df\n",
    "imdb_title_df[imdb_title_df['start_year'] > 2022]"
   ]
  },
  {
   "cell_type": "code",
   "execution_count": 73,
   "metadata": {},
   "outputs": [],
   "source": [
    "# drop records with start_year more than 2022\n",
    "imdb_title_df = imdb_title_df[imdb_title_df['start_year'] <= 2022]"
   ]
  },
  {
   "cell_type": "code",
   "execution_count": 74,
   "metadata": {},
   "outputs": [
    {
     "data": {
      "text/html": [
       "<div>\n",
       "<style scoped>\n",
       "    .dataframe tbody tr th:only-of-type {\n",
       "        vertical-align: middle;\n",
       "    }\n",
       "\n",
       "    .dataframe tbody tr th {\n",
       "        vertical-align: top;\n",
       "    }\n",
       "\n",
       "    .dataframe thead th {\n",
       "        text-align: right;\n",
       "    }\n",
       "</style>\n",
       "<table border=\"1\" class=\"dataframe\">\n",
       "  <thead>\n",
       "    <tr style=\"text-align: right;\">\n",
       "      <th></th>\n",
       "      <th>tconst</th>\n",
       "      <th>primary_title</th>\n",
       "      <th>original_title</th>\n",
       "      <th>start_year</th>\n",
       "      <th>runtime_minutes</th>\n",
       "      <th>genres</th>\n",
       "    </tr>\n",
       "  </thead>\n",
       "  <tbody>\n",
       "  </tbody>\n",
       "</table>\n",
       "</div>"
      ],
      "text/plain": [
       "Empty DataFrame\n",
       "Columns: [tconst, primary_title, original_title, start_year, runtime_minutes, genres]\n",
       "Index: []"
      ]
     },
     "execution_count": 74,
     "metadata": {},
     "output_type": "execute_result"
    }
   ],
   "source": [
    "#recheck\n",
    "imdb_title_df[imdb_title_df['start_year'] > 2022]"
   ]
  },
  {
   "cell_type": "code",
   "execution_count": 75,
   "metadata": {},
   "outputs": [
    {
     "data": {
      "text/html": [
       "<div>\n",
       "<style scoped>\n",
       "    .dataframe tbody tr th:only-of-type {\n",
       "        vertical-align: middle;\n",
       "    }\n",
       "\n",
       "    .dataframe tbody tr th {\n",
       "        vertical-align: top;\n",
       "    }\n",
       "\n",
       "    .dataframe thead th {\n",
       "        text-align: right;\n",
       "    }\n",
       "</style>\n",
       "<table border=\"1\" class=\"dataframe\">\n",
       "  <thead>\n",
       "    <tr style=\"text-align: right;\">\n",
       "      <th></th>\n",
       "      <th>title</th>\n",
       "      <th>studio</th>\n",
       "      <th>domestic_gross</th>\n",
       "      <th>foreign_gross</th>\n",
       "      <th>year</th>\n",
       "    </tr>\n",
       "  </thead>\n",
       "  <tbody>\n",
       "  </tbody>\n",
       "</table>\n",
       "</div>"
      ],
      "text/plain": [
       "Empty DataFrame\n",
       "Columns: [title, studio, domestic_gross, foreign_gross, year]\n",
       "Index: []"
      ]
     },
     "execution_count": 75,
     "metadata": {},
     "output_type": "execute_result"
    }
   ],
   "source": [
    "#check for years greater than 2022 in movie_gross\n",
    "movie_gross[movie_gross['year'] > 2022]"
   ]
  },
  {
   "attachments": {},
   "cell_type": "markdown",
   "metadata": {},
   "source": [
    "And we are done with cleaning the data."
   ]
  },
  {
   "attachments": {},
   "cell_type": "markdown",
   "metadata": {},
   "source": [
    "## Merging of dataframes"
   ]
  },
  {
   "attachments": {},
   "cell_type": "markdown",
   "metadata": {},
   "source": [
    "I merge the imdb_title_df with imdb_rating to provide more entries within a row"
   ]
  },
  {
   "cell_type": "code",
   "execution_count": 76,
   "metadata": {},
   "outputs": [
    {
     "data": {
      "text/html": [
       "<div>\n",
       "<style scoped>\n",
       "    .dataframe tbody tr th:only-of-type {\n",
       "        vertical-align: middle;\n",
       "    }\n",
       "\n",
       "    .dataframe tbody tr th {\n",
       "        vertical-align: top;\n",
       "    }\n",
       "\n",
       "    .dataframe thead th {\n",
       "        text-align: right;\n",
       "    }\n",
       "</style>\n",
       "<table border=\"1\" class=\"dataframe\">\n",
       "  <thead>\n",
       "    <tr style=\"text-align: right;\">\n",
       "      <th></th>\n",
       "      <th>tconst</th>\n",
       "      <th>primary_title</th>\n",
       "      <th>original_title</th>\n",
       "      <th>start_year</th>\n",
       "      <th>runtime_minutes</th>\n",
       "      <th>genres</th>\n",
       "      <th>averagerating</th>\n",
       "      <th>numvotes</th>\n",
       "    </tr>\n",
       "  </thead>\n",
       "  <tbody>\n",
       "    <tr>\n",
       "      <th>0</th>\n",
       "      <td>tt1699720</td>\n",
       "      <td>!Women Art Revolution</td>\n",
       "      <td>Women Art Revolution</td>\n",
       "      <td>2010</td>\n",
       "      <td>83.0</td>\n",
       "      <td>Documentary</td>\n",
       "      <td>6.9</td>\n",
       "      <td>196</td>\n",
       "    </tr>\n",
       "    <tr>\n",
       "      <th>1</th>\n",
       "      <td>tt2346170</td>\n",
       "      <td>#1 Serial Killer</td>\n",
       "      <td>#1 Serial Killer</td>\n",
       "      <td>2013</td>\n",
       "      <td>87.0</td>\n",
       "      <td>Horror</td>\n",
       "      <td>5.6</td>\n",
       "      <td>40</td>\n",
       "    </tr>\n",
       "    <tr>\n",
       "      <th>2</th>\n",
       "      <td>tt3120962</td>\n",
       "      <td>#5</td>\n",
       "      <td>#5</td>\n",
       "      <td>2013</td>\n",
       "      <td>68.0</td>\n",
       "      <td>Biography,Comedy,Fantasy</td>\n",
       "      <td>6.8</td>\n",
       "      <td>6</td>\n",
       "    </tr>\n",
       "    <tr>\n",
       "      <th>3</th>\n",
       "      <td>tt5255986</td>\n",
       "      <td>#66</td>\n",
       "      <td>#66</td>\n",
       "      <td>2015</td>\n",
       "      <td>116.0</td>\n",
       "      <td>Action</td>\n",
       "      <td>5.3</td>\n",
       "      <td>18</td>\n",
       "    </tr>\n",
       "    <tr>\n",
       "      <th>4</th>\n",
       "      <td>tt7853996</td>\n",
       "      <td>#ALLMYMOVIES</td>\n",
       "      <td>#ALLMYMOVIES</td>\n",
       "      <td>2015</td>\n",
       "      <td>87.0</td>\n",
       "      <td>Documentary</td>\n",
       "      <td>8.3</td>\n",
       "      <td>21</td>\n",
       "    </tr>\n",
       "    <tr>\n",
       "      <th>5</th>\n",
       "      <td>tt9844890</td>\n",
       "      <td>#AbroHilo</td>\n",
       "      <td>#AbroHilo</td>\n",
       "      <td>2019</td>\n",
       "      <td>52.0</td>\n",
       "      <td>Documentary</td>\n",
       "      <td>6.6</td>\n",
       "      <td>8</td>\n",
       "    </tr>\n",
       "    <tr>\n",
       "      <th>6</th>\n",
       "      <td>tt6170868</td>\n",
       "      <td>#BKKY</td>\n",
       "      <td>#BKKY</td>\n",
       "      <td>2016</td>\n",
       "      <td>75.0</td>\n",
       "      <td>Drama</td>\n",
       "      <td>7.4</td>\n",
       "      <td>23</td>\n",
       "    </tr>\n",
       "    <tr>\n",
       "      <th>7</th>\n",
       "      <td>tt5074174</td>\n",
       "      <td>#BeRobin the Movie</td>\n",
       "      <td>#BeRobin the Movie</td>\n",
       "      <td>2015</td>\n",
       "      <td>41.0</td>\n",
       "      <td>Documentary</td>\n",
       "      <td>9.0</td>\n",
       "      <td>31</td>\n",
       "    </tr>\n",
       "    <tr>\n",
       "      <th>8</th>\n",
       "      <td>tt4353986</td>\n",
       "      <td>#Beings</td>\n",
       "      <td>#Beings</td>\n",
       "      <td>2015</td>\n",
       "      <td>56.0</td>\n",
       "      <td>Thriller</td>\n",
       "      <td>5.3</td>\n",
       "      <td>18</td>\n",
       "    </tr>\n",
       "    <tr>\n",
       "      <th>9</th>\n",
       "      <td>tt6856592</td>\n",
       "      <td>#Captured</td>\n",
       "      <td>#Captured</td>\n",
       "      <td>2017</td>\n",
       "      <td>81.0</td>\n",
       "      <td>Thriller</td>\n",
       "      <td>2.8</td>\n",
       "      <td>212</td>\n",
       "    </tr>\n",
       "  </tbody>\n",
       "</table>\n",
       "</div>"
      ],
      "text/plain": [
       "      tconst          primary_title        original_title  start_year  \\\n",
       "0  tt1699720  !Women Art Revolution  Women Art Revolution        2010   \n",
       "1  tt2346170       #1 Serial Killer      #1 Serial Killer        2013   \n",
       "2  tt3120962                     #5                    #5        2013   \n",
       "3  tt5255986                    #66                   #66        2015   \n",
       "4  tt7853996           #ALLMYMOVIES          #ALLMYMOVIES        2015   \n",
       "5  tt9844890              #AbroHilo             #AbroHilo        2019   \n",
       "6  tt6170868                  #BKKY                 #BKKY        2016   \n",
       "7  tt5074174     #BeRobin the Movie    #BeRobin the Movie        2015   \n",
       "8  tt4353986                #Beings               #Beings        2015   \n",
       "9  tt6856592              #Captured             #Captured        2017   \n",
       "\n",
       "   runtime_minutes                    genres  averagerating  numvotes  \n",
       "0             83.0               Documentary            6.9       196  \n",
       "1             87.0                    Horror            5.6        40  \n",
       "2             68.0  Biography,Comedy,Fantasy            6.8         6  \n",
       "3            116.0                    Action            5.3        18  \n",
       "4             87.0               Documentary            8.3        21  \n",
       "5             52.0               Documentary            6.6         8  \n",
       "6             75.0                     Drama            7.4        23  \n",
       "7             41.0               Documentary            9.0        31  \n",
       "8             56.0                  Thriller            5.3        18  \n",
       "9             81.0                  Thriller            2.8       212  "
      ]
     },
     "execution_count": 76,
     "metadata": {},
     "output_type": "execute_result"
    }
   ],
   "source": [
    "#merge imdb_title_df and imdb_ratings using an inner join\n",
    "joined_imdb_df = imdb_title_df.merge(imdb_ratings, on='tconst', how='inner')\n",
    "joined_imdb_df.head(10)"
   ]
  },
  {
   "attachments": {},
   "cell_type": "markdown",
   "metadata": {},
   "source": [
    "`joined_imdb_df` dataframe contains two columns for the movie title: `primary_title` and the `original_title`<br>\n",
    "It is important to determine the column to use for merging the movie_gross_df and joined_imdb_df dataframes.<br>\n",
    "Further checking on the IMDB website reveals:\n",
    "- `primary_title` is the title used by the filmmakers on promotional materials at the point of release.\n",
    "- original_title is the original title, in the original language <br>\n",
    "\n",
    "Hence, we merge the two dataframes using `primary_title`"
   ]
  },
  {
   "cell_type": "code",
   "execution_count": 77,
   "metadata": {},
   "outputs": [
    {
     "data": {
      "text/html": [
       "<div>\n",
       "<style scoped>\n",
       "    .dataframe tbody tr th:only-of-type {\n",
       "        vertical-align: middle;\n",
       "    }\n",
       "\n",
       "    .dataframe tbody tr th {\n",
       "        vertical-align: top;\n",
       "    }\n",
       "\n",
       "    .dataframe thead th {\n",
       "        text-align: right;\n",
       "    }\n",
       "</style>\n",
       "<table border=\"1\" class=\"dataframe\">\n",
       "  <thead>\n",
       "    <tr style=\"text-align: right;\">\n",
       "      <th></th>\n",
       "      <th>tconst</th>\n",
       "      <th>title</th>\n",
       "      <th>original_title</th>\n",
       "      <th>start_year</th>\n",
       "      <th>runtime_minutes</th>\n",
       "      <th>genres</th>\n",
       "      <th>averagerating</th>\n",
       "      <th>numvotes</th>\n",
       "      <th>studio</th>\n",
       "      <th>domestic_gross</th>\n",
       "      <th>foreign_gross</th>\n",
       "      <th>year</th>\n",
       "    </tr>\n",
       "  </thead>\n",
       "  <tbody>\n",
       "    <tr>\n",
       "      <th>0</th>\n",
       "      <td>tt2614684</td>\n",
       "      <td>'71</td>\n",
       "      <td>'71</td>\n",
       "      <td>2014</td>\n",
       "      <td>99.0</td>\n",
       "      <td>Action,Drama,Thriller</td>\n",
       "      <td>7.2</td>\n",
       "      <td>46103</td>\n",
       "      <td>RAtt.</td>\n",
       "      <td>1300000.0</td>\n",
       "      <td>355000.0</td>\n",
       "      <td>2015</td>\n",
       "    </tr>\n",
       "    <tr>\n",
       "      <th>1</th>\n",
       "      <td>tt2353767</td>\n",
       "      <td>1,000 Times Good Night</td>\n",
       "      <td>Tusen ganger god natt</td>\n",
       "      <td>2013</td>\n",
       "      <td>117.0</td>\n",
       "      <td>Drama,War</td>\n",
       "      <td>7.1</td>\n",
       "      <td>6848</td>\n",
       "      <td>FM</td>\n",
       "      <td>53900.0</td>\n",
       "      <td>NaN</td>\n",
       "      <td>2014</td>\n",
       "    </tr>\n",
       "    <tr>\n",
       "      <th>2</th>\n",
       "      <td>tt1179933</td>\n",
       "      <td>10 Cloverfield Lane</td>\n",
       "      <td>10 Cloverfield Lane</td>\n",
       "      <td>2016</td>\n",
       "      <td>103.0</td>\n",
       "      <td>Drama,Horror,Mystery</td>\n",
       "      <td>7.2</td>\n",
       "      <td>260383</td>\n",
       "      <td>Par.</td>\n",
       "      <td>72100000.0</td>\n",
       "      <td>38100000.0</td>\n",
       "      <td>2016</td>\n",
       "    </tr>\n",
       "    <tr>\n",
       "      <th>3</th>\n",
       "      <td>tt1715873</td>\n",
       "      <td>10 Years</td>\n",
       "      <td>10 Years</td>\n",
       "      <td>2011</td>\n",
       "      <td>100.0</td>\n",
       "      <td>Comedy,Drama,Romance</td>\n",
       "      <td>6.1</td>\n",
       "      <td>22484</td>\n",
       "      <td>Anch.</td>\n",
       "      <td>203000.0</td>\n",
       "      <td>NaN</td>\n",
       "      <td>2012</td>\n",
       "    </tr>\n",
       "    <tr>\n",
       "      <th>4</th>\n",
       "      <td>tt3346824</td>\n",
       "      <td>1001 Grams</td>\n",
       "      <td>1001 Gram</td>\n",
       "      <td>2014</td>\n",
       "      <td>93.0</td>\n",
       "      <td>Drama</td>\n",
       "      <td>6.3</td>\n",
       "      <td>1301</td>\n",
       "      <td>KL</td>\n",
       "      <td>11000.0</td>\n",
       "      <td>NaN</td>\n",
       "      <td>2015</td>\n",
       "    </tr>\n",
       "  </tbody>\n",
       "</table>\n",
       "</div>"
      ],
      "text/plain": [
       "      tconst                   title         original_title  start_year  \\\n",
       "0  tt2614684                     '71                    '71        2014   \n",
       "1  tt2353767  1,000 Times Good Night  Tusen ganger god natt        2013   \n",
       "2  tt1179933     10 Cloverfield Lane    10 Cloverfield Lane        2016   \n",
       "3  tt1715873                10 Years               10 Years        2011   \n",
       "4  tt3346824              1001 Grams              1001 Gram        2014   \n",
       "\n",
       "   runtime_minutes                 genres  averagerating  numvotes studio  \\\n",
       "0             99.0  Action,Drama,Thriller            7.2     46103  RAtt.   \n",
       "1            117.0              Drama,War            7.1      6848     FM   \n",
       "2            103.0   Drama,Horror,Mystery            7.2    260383   Par.   \n",
       "3            100.0   Comedy,Drama,Romance            6.1     22484  Anch.   \n",
       "4             93.0                  Drama            6.3      1301     KL   \n",
       "\n",
       "   domestic_gross  foreign_gross  year  \n",
       "0       1300000.0       355000.0  2015  \n",
       "1         53900.0            NaN  2014  \n",
       "2      72100000.0     38100000.0  2016  \n",
       "3        203000.0            NaN  2012  \n",
       "4         11000.0            NaN  2015  "
      ]
     },
     "execution_count": 77,
     "metadata": {},
     "output_type": "execute_result"
    }
   ],
   "source": [
    "#Rename primary_title column to title\n",
    "joined_imdb_df.rename(columns = {'primary_title': 'title'}, inplace = True)\n",
    "#Merge movie_gross_df and joined_imdb_df on the title column using an inner join\n",
    "movies_df = joined_imdb_df.merge(movie_gross, on='title', how='inner')\n",
    "movies_df.head()"
   ]
  },
  {
   "attachments": {},
   "cell_type": "markdown",
   "metadata": {},
   "source": [
    "We check the shape of the merged `movies_df`"
   ]
  },
  {
   "cell_type": "code",
   "execution_count": 79,
   "metadata": {},
   "outputs": [
    {
     "data": {
      "text/plain": [
       "(2948, 12)"
      ]
     },
     "execution_count": 79,
     "metadata": {},
     "output_type": "execute_result"
    }
   ],
   "source": [
    "#check info of movies_df\n",
    "\n",
    "movies_df.shape"
   ]
  },
  {
   "cell_type": "code",
   "execution_count": 80,
   "metadata": {},
   "outputs": [
    {
     "data": {
      "text/plain": [
       "False    2948\n",
       "dtype: int64"
      ]
     },
     "execution_count": 80,
     "metadata": {},
     "output_type": "execute_result"
    }
   ],
   "source": [
    "#check for duplicates in merged dataframe\n",
    "movies_df.duplicated().value_counts()"
   ]
  },
  {
   "cell_type": "code",
   "execution_count": 102,
   "metadata": {},
   "outputs": [
    {
     "name": "stdout",
     "output_type": "stream",
     "text": [
      "tconst:\n",
      "tt6599340    2\n",
      "tt2442772    2\n",
      "tt4481414    1\n",
      "tt2034139    1\n",
      "tt3623726    1\n",
      "            ..\n",
      "tt3025936    1\n",
      "tt6651330    1\n",
      "tt1298650    1\n",
      "tt0857190    1\n",
      "tt2473510    1\n",
      "Name: tconst, Length: 2946, dtype: int64\n",
      "\n",
      "title:\n",
      "Gold                     6\n",
      "One Day                  6\n",
      "Youth                    5\n",
      "We Are Family            5\n",
      "Bluebeard                4\n",
      "                        ..\n",
      "Irrational Man           1\n",
      "Veronica Mars            1\n",
      "Graduation               1\n",
      "Mr. Popper's Penguins    1\n",
      "Certified Copy           1\n",
      "Name: title, Length: 2598, dtype: int64\n",
      "\n",
      "original_title:\n",
      "Mama                      4\n",
      "Anna                      4\n",
      "Nerve                     4\n",
      "The Gambler               4\n",
      "Bodyguard                 4\n",
      "                         ..\n",
      "I Spit on Your Grave 2    1\n",
      "Få meg på, for faen       1\n",
      "The Babadook              1\n",
      "Little Boy                1\n",
      "Life After Beth           1\n",
      "Name: original_title, Length: 2704, dtype: int64\n",
      "\n",
      "genres:\n",
      "Drama                      296\n",
      "Comedy,Drama               131\n",
      "Comedy,Drama,Romance       131\n",
      "Drama,Romance              111\n",
      "Documentary                104\n",
      "                          ... \n",
      "Fantasy,Mystery,Romance      1\n",
      "Action,Comedy,War            1\n",
      "Drama,Fantasy,Music          1\n",
      "Crime,Mystery                1\n",
      "Action,Romance               1\n",
      "Name: genres, Length: 320, dtype: int64\n",
      "\n",
      "studio:\n",
      "Uni.     145\n",
      "IFC      142\n",
      "Fox      136\n",
      "WB       118\n",
      "Magn.    114\n",
      "        ... \n",
      "B360       1\n",
      "Asp.       1\n",
      "FOR        1\n",
      "AM         1\n",
      "First      1\n",
      "Name: studio, Length: 217, dtype: int64\n",
      "\n"
     ]
    }
   ],
   "source": [
    "#unique value counts in columns with dtype object in the merged dataset\n",
    "cat_columns = movies_df.select_dtypes(include='object').columns\n",
    "for column in cat_columns:\n",
    "    print(f'{column}:')\n",
    "    print(movies_df[column].value_counts())\n",
    "    print()"
   ]
  },
  {
   "attachments": {},
   "cell_type": "markdown",
   "metadata": {},
   "source": [
    "### Total Gross Income\n",
    "\n",
    "From looking at the datasets, it is deduced that the total gross  income column can be added to the dataframe. The total gross income can be calculated by finding the sum of the domestic gross income and the foreign gross income for each movie. <br>\n",
    "\n",
    "For movies without either of foreign or domestic gross, the total gross is null."
   ]
  },
  {
   "cell_type": "code",
   "execution_count": 82,
   "metadata": {},
   "outputs": [
    {
     "data": {
      "text/html": [
       "<div>\n",
       "<style scoped>\n",
       "    .dataframe tbody tr th:only-of-type {\n",
       "        vertical-align: middle;\n",
       "    }\n",
       "\n",
       "    .dataframe tbody tr th {\n",
       "        vertical-align: top;\n",
       "    }\n",
       "\n",
       "    .dataframe thead th {\n",
       "        text-align: right;\n",
       "    }\n",
       "</style>\n",
       "<table border=\"1\" class=\"dataframe\">\n",
       "  <thead>\n",
       "    <tr style=\"text-align: right;\">\n",
       "      <th></th>\n",
       "      <th>tconst</th>\n",
       "      <th>title</th>\n",
       "      <th>original_title</th>\n",
       "      <th>start_year</th>\n",
       "      <th>runtime_minutes</th>\n",
       "      <th>genres</th>\n",
       "      <th>averagerating</th>\n",
       "      <th>numvotes</th>\n",
       "      <th>studio</th>\n",
       "      <th>domestic_gross</th>\n",
       "      <th>foreign_gross</th>\n",
       "      <th>year</th>\n",
       "      <th>total_gross</th>\n",
       "    </tr>\n",
       "  </thead>\n",
       "  <tbody>\n",
       "    <tr>\n",
       "      <th>0</th>\n",
       "      <td>tt2614684</td>\n",
       "      <td>'71</td>\n",
       "      <td>'71</td>\n",
       "      <td>2014</td>\n",
       "      <td>99.0</td>\n",
       "      <td>Action,Drama,Thriller</td>\n",
       "      <td>7.2</td>\n",
       "      <td>46103</td>\n",
       "      <td>RAtt.</td>\n",
       "      <td>1300000.0</td>\n",
       "      <td>355000.0</td>\n",
       "      <td>2015</td>\n",
       "      <td>1655000.0</td>\n",
       "    </tr>\n",
       "    <tr>\n",
       "      <th>1</th>\n",
       "      <td>tt2353767</td>\n",
       "      <td>1,000 Times Good Night</td>\n",
       "      <td>Tusen ganger god natt</td>\n",
       "      <td>2013</td>\n",
       "      <td>117.0</td>\n",
       "      <td>Drama,War</td>\n",
       "      <td>7.1</td>\n",
       "      <td>6848</td>\n",
       "      <td>FM</td>\n",
       "      <td>53900.0</td>\n",
       "      <td>NaN</td>\n",
       "      <td>2014</td>\n",
       "      <td>NaN</td>\n",
       "    </tr>\n",
       "    <tr>\n",
       "      <th>2</th>\n",
       "      <td>tt1179933</td>\n",
       "      <td>10 Cloverfield Lane</td>\n",
       "      <td>10 Cloverfield Lane</td>\n",
       "      <td>2016</td>\n",
       "      <td>103.0</td>\n",
       "      <td>Drama,Horror,Mystery</td>\n",
       "      <td>7.2</td>\n",
       "      <td>260383</td>\n",
       "      <td>Par.</td>\n",
       "      <td>72100000.0</td>\n",
       "      <td>38100000.0</td>\n",
       "      <td>2016</td>\n",
       "      <td>110200000.0</td>\n",
       "    </tr>\n",
       "    <tr>\n",
       "      <th>3</th>\n",
       "      <td>tt1715873</td>\n",
       "      <td>10 Years</td>\n",
       "      <td>10 Years</td>\n",
       "      <td>2011</td>\n",
       "      <td>100.0</td>\n",
       "      <td>Comedy,Drama,Romance</td>\n",
       "      <td>6.1</td>\n",
       "      <td>22484</td>\n",
       "      <td>Anch.</td>\n",
       "      <td>203000.0</td>\n",
       "      <td>NaN</td>\n",
       "      <td>2012</td>\n",
       "      <td>NaN</td>\n",
       "    </tr>\n",
       "    <tr>\n",
       "      <th>4</th>\n",
       "      <td>tt3346824</td>\n",
       "      <td>1001 Grams</td>\n",
       "      <td>1001 Gram</td>\n",
       "      <td>2014</td>\n",
       "      <td>93.0</td>\n",
       "      <td>Drama</td>\n",
       "      <td>6.3</td>\n",
       "      <td>1301</td>\n",
       "      <td>KL</td>\n",
       "      <td>11000.0</td>\n",
       "      <td>NaN</td>\n",
       "      <td>2015</td>\n",
       "      <td>NaN</td>\n",
       "    </tr>\n",
       "  </tbody>\n",
       "</table>\n",
       "</div>"
      ],
      "text/plain": [
       "      tconst                   title         original_title  start_year  \\\n",
       "0  tt2614684                     '71                    '71        2014   \n",
       "1  tt2353767  1,000 Times Good Night  Tusen ganger god natt        2013   \n",
       "2  tt1179933     10 Cloverfield Lane    10 Cloverfield Lane        2016   \n",
       "3  tt1715873                10 Years               10 Years        2011   \n",
       "4  tt3346824              1001 Grams              1001 Gram        2014   \n",
       "\n",
       "   runtime_minutes                 genres  averagerating  numvotes studio  \\\n",
       "0             99.0  Action,Drama,Thriller            7.2     46103  RAtt.   \n",
       "1            117.0              Drama,War            7.1      6848     FM   \n",
       "2            103.0   Drama,Horror,Mystery            7.2    260383   Par.   \n",
       "3            100.0   Comedy,Drama,Romance            6.1     22484  Anch.   \n",
       "4             93.0                  Drama            6.3      1301     KL   \n",
       "\n",
       "   domestic_gross  foreign_gross  year  total_gross  \n",
       "0       1300000.0       355000.0  2015    1655000.0  \n",
       "1         53900.0            NaN  2014          NaN  \n",
       "2      72100000.0     38100000.0  2016  110200000.0  \n",
       "3        203000.0            NaN  2012          NaN  \n",
       "4         11000.0            NaN  2015          NaN  "
      ]
     },
     "execution_count": 82,
     "metadata": {},
     "output_type": "execute_result"
    }
   ],
   "source": [
    "#total_gross: domestic gross income + foreign gross income\n",
    "movies_df = movies_df.copy()\n",
    "movies_df['total_gross'] = movies_df['domestic_gross'] + movies_df['foreign_gross']\n",
    "movies_df.head(5)"
   ]
  },
  {
   "cell_type": "markdown",
   "metadata": {},
   "source": [
    "### Separate the genre categories"
   ]
  },
  {
   "attachments": {},
   "cell_type": "markdown",
   "metadata": {},
   "source": [
    "The genre column has multiple categories in a single row. The categories can be separated so that there is one category in each row. <br>\n",
    "Method .`explode` is used to transform each element of a list-like to a row, replicating index values."
   ]
  },
  {
   "cell_type": "code",
   "execution_count": 83,
   "metadata": {},
   "outputs": [],
   "source": [
    "#make a copy of the dataframe = movies\n",
    "movies = movies_df.copy()\n",
    "#split the genre categories into a list, around the comma separator\n",
    "movies['genres'] = movies['genres'].str.split(',')\n",
    "#transform each element in the genres list to a row\n",
    "movies = movies.explode('genres')"
   ]
  },
  {
   "cell_type": "code",
   "execution_count": 84,
   "metadata": {},
   "outputs": [
    {
     "data": {
      "text/html": [
       "<div>\n",
       "<style scoped>\n",
       "    .dataframe tbody tr th:only-of-type {\n",
       "        vertical-align: middle;\n",
       "    }\n",
       "\n",
       "    .dataframe tbody tr th {\n",
       "        vertical-align: top;\n",
       "    }\n",
       "\n",
       "    .dataframe thead th {\n",
       "        text-align: right;\n",
       "    }\n",
       "</style>\n",
       "<table border=\"1\" class=\"dataframe\">\n",
       "  <thead>\n",
       "    <tr style=\"text-align: right;\">\n",
       "      <th></th>\n",
       "      <th>tconst</th>\n",
       "      <th>title</th>\n",
       "      <th>original_title</th>\n",
       "      <th>start_year</th>\n",
       "      <th>runtime_minutes</th>\n",
       "      <th>genres</th>\n",
       "      <th>averagerating</th>\n",
       "      <th>numvotes</th>\n",
       "      <th>studio</th>\n",
       "      <th>domestic_gross</th>\n",
       "      <th>foreign_gross</th>\n",
       "      <th>year</th>\n",
       "      <th>total_gross</th>\n",
       "    </tr>\n",
       "  </thead>\n",
       "  <tbody>\n",
       "    <tr>\n",
       "      <th>0</th>\n",
       "      <td>tt2614684</td>\n",
       "      <td>'71</td>\n",
       "      <td>'71</td>\n",
       "      <td>2014</td>\n",
       "      <td>99.0</td>\n",
       "      <td>Action</td>\n",
       "      <td>7.2</td>\n",
       "      <td>46103</td>\n",
       "      <td>RAtt.</td>\n",
       "      <td>1300000.0</td>\n",
       "      <td>355000.0</td>\n",
       "      <td>2015</td>\n",
       "      <td>1655000.0</td>\n",
       "    </tr>\n",
       "    <tr>\n",
       "      <th>0</th>\n",
       "      <td>tt2614684</td>\n",
       "      <td>'71</td>\n",
       "      <td>'71</td>\n",
       "      <td>2014</td>\n",
       "      <td>99.0</td>\n",
       "      <td>Drama</td>\n",
       "      <td>7.2</td>\n",
       "      <td>46103</td>\n",
       "      <td>RAtt.</td>\n",
       "      <td>1300000.0</td>\n",
       "      <td>355000.0</td>\n",
       "      <td>2015</td>\n",
       "      <td>1655000.0</td>\n",
       "    </tr>\n",
       "    <tr>\n",
       "      <th>0</th>\n",
       "      <td>tt2614684</td>\n",
       "      <td>'71</td>\n",
       "      <td>'71</td>\n",
       "      <td>2014</td>\n",
       "      <td>99.0</td>\n",
       "      <td>Thriller</td>\n",
       "      <td>7.2</td>\n",
       "      <td>46103</td>\n",
       "      <td>RAtt.</td>\n",
       "      <td>1300000.0</td>\n",
       "      <td>355000.0</td>\n",
       "      <td>2015</td>\n",
       "      <td>1655000.0</td>\n",
       "    </tr>\n",
       "    <tr>\n",
       "      <th>1</th>\n",
       "      <td>tt2353767</td>\n",
       "      <td>1,000 Times Good Night</td>\n",
       "      <td>Tusen ganger god natt</td>\n",
       "      <td>2013</td>\n",
       "      <td>117.0</td>\n",
       "      <td>Drama</td>\n",
       "      <td>7.1</td>\n",
       "      <td>6848</td>\n",
       "      <td>FM</td>\n",
       "      <td>53900.0</td>\n",
       "      <td>NaN</td>\n",
       "      <td>2014</td>\n",
       "      <td>NaN</td>\n",
       "    </tr>\n",
       "    <tr>\n",
       "      <th>1</th>\n",
       "      <td>tt2353767</td>\n",
       "      <td>1,000 Times Good Night</td>\n",
       "      <td>Tusen ganger god natt</td>\n",
       "      <td>2013</td>\n",
       "      <td>117.0</td>\n",
       "      <td>War</td>\n",
       "      <td>7.1</td>\n",
       "      <td>6848</td>\n",
       "      <td>FM</td>\n",
       "      <td>53900.0</td>\n",
       "      <td>NaN</td>\n",
       "      <td>2014</td>\n",
       "      <td>NaN</td>\n",
       "    </tr>\n",
       "  </tbody>\n",
       "</table>\n",
       "</div>"
      ],
      "text/plain": [
       "      tconst                   title         original_title  start_year  \\\n",
       "0  tt2614684                     '71                    '71        2014   \n",
       "0  tt2614684                     '71                    '71        2014   \n",
       "0  tt2614684                     '71                    '71        2014   \n",
       "1  tt2353767  1,000 Times Good Night  Tusen ganger god natt        2013   \n",
       "1  tt2353767  1,000 Times Good Night  Tusen ganger god natt        2013   \n",
       "\n",
       "   runtime_minutes    genres  averagerating  numvotes studio  domestic_gross  \\\n",
       "0             99.0    Action            7.2     46103  RAtt.       1300000.0   \n",
       "0             99.0     Drama            7.2     46103  RAtt.       1300000.0   \n",
       "0             99.0  Thriller            7.2     46103  RAtt.       1300000.0   \n",
       "1            117.0     Drama            7.1      6848     FM         53900.0   \n",
       "1            117.0       War            7.1      6848     FM         53900.0   \n",
       "\n",
       "   foreign_gross  year  total_gross  \n",
       "0       355000.0  2015    1655000.0  \n",
       "0       355000.0  2015    1655000.0  \n",
       "0       355000.0  2015    1655000.0  \n",
       "1            NaN  2014          NaN  \n",
       "1            NaN  2014          NaN  "
      ]
     },
     "execution_count": 84,
     "metadata": {},
     "output_type": "execute_result"
    }
   ],
   "source": [
    "#preview the first five rows of the movies dataframe \n",
    "movies.head()"
   ]
  },
  {
   "cell_type": "code",
   "execution_count": 85,
   "metadata": {},
   "outputs": [],
   "source": [
    "#reset index\n",
    "movies = movies.reset_index(drop=True)"
   ]
  },
  {
   "cell_type": "code",
   "execution_count": 86,
   "metadata": {},
   "outputs": [
    {
     "data": {
      "text/plain": [
       "Drama          1718\n",
       "Comedy          918\n",
       "Action          638\n",
       "Romance         464\n",
       "Thriller        439\n",
       "Adventure       436\n",
       "Crime           379\n",
       "Biography       282\n",
       "Horror          230\n",
       "Documentary     216\n",
       "Mystery         206\n",
       "Fantasy         166\n",
       "Animation       151\n",
       "Sci-Fi          135\n",
       "History         134\n",
       "Family          114\n",
       "Music            89\n",
       "Sport            52\n",
       "War              50\n",
       "Western          21\n",
       "Musical          18\n",
       "News              2\n",
       "Name: genres, dtype: int64"
      ]
     },
     "execution_count": 86,
     "metadata": {},
     "output_type": "execute_result"
    }
   ],
   "source": [
    "#value counts of the genres column in the new dataset after separating the genres\n",
    "movies['genres'].value_counts()"
   ]
  },
  {
   "cell_type": "code",
   "execution_count": 87,
   "metadata": {},
   "outputs": [
    {
     "data": {
      "text/plain": [
       "Drama                      296\n",
       "Comedy,Drama               131\n",
       "Comedy,Drama,Romance       131\n",
       "Drama,Romance              111\n",
       "Documentary                104\n",
       "                          ... \n",
       "Fantasy,Mystery,Romance      1\n",
       "Action,Comedy,War            1\n",
       "Drama,Fantasy,Music          1\n",
       "Crime,Mystery                1\n",
       "Action,Romance               1\n",
       "Name: genres, Length: 320, dtype: int64"
      ]
     },
     "execution_count": 87,
     "metadata": {},
     "output_type": "execute_result"
    }
   ],
   "source": [
    "#value counts of the genres column in the dataset before separating the genres\n",
    "movies_df['genres'].value_counts()"
   ]
  },
  {
   "cell_type": "markdown",
   "metadata": {},
   "source": [
    "## Data Visualization"
   ]
  },
  {
   "cell_type": "markdown",
   "metadata": {},
   "source": [
    "### Number of movies per genre"
   ]
  },
  {
   "cell_type": "code",
   "execution_count": 89,
   "metadata": {},
   "outputs": [
    {
     "data": {
      "image/png": "[encoded data removed]",
      "text/plain": [
       "<Figure size 1008x504 with 1 Axes>"
      ]
     },
     "metadata": {},
     "output_type": "display_data"
    }
   ],
   "source": [
    "#countplot showing the number of movies per genre\n",
    "sns.set(style='darkgrid')\n",
    "sns.set_context('talk')\n",
    "fig, ax = plt.subplots(figsize=(14,7))\n",
    "ax = sns.countplot(x=movies['genres'], order=movies['genres'].value_counts().index)\n",
    "ax.set_title('Number of Movies Per Genre')\n",
    "ax.set_xlabel('Genres')\n",
    "plt.xticks(rotation=60);"
   ]
  },
  {
   "attachments": {},
   "cell_type": "markdown",
   "metadata": {},
   "source": [
    "Drama, comedy and action are the genres that have the highest number of movies released in this dataset. Drama and  comedy are probably the largest film genres because they include a broad spectrum of films. They are more general categories, hence can fall into a movie with more than one genre classification.<br>\n",
    "\n",
    "The genres with the least number of movies are war, western, musical and news. These genres are more specific based on the plot of the movie."
   ]
  },
  {
   "cell_type": "markdown",
   "metadata": {},
   "source": [
    "### Distribution of the movies' average rating"
   ]
  },
  {
   "cell_type": "code",
   "execution_count": 90,
   "metadata": {},
   "outputs": [
    {
     "data": {
      "image/png": "[encoded data removed]",
      "text/plain": [
       "<Figure size 864x576 with 1 Axes>"
      ]
     },
     "metadata": {},
     "output_type": "display_data"
    }
   ],
   "source": [
    "#histogram showing the average rating distribution\n",
    "fig, ax = plt.subplots(figsize=(12,8))\n",
    "sns.histplot(movies['averagerating'], bins= 10, ax=ax)\n",
    "ax.set_title('Distribution of average rating');"
   ]
  },
  {
   "attachments": {},
   "cell_type": "markdown",
   "metadata": {},
   "source": [
    "Most movies have an average rating of around 6. Generally, the distribution is negatively skewed. There are a few movies with a rating of less than 4.<br>\n",
    "After understanding this distribution, it is important to look at the average rating by genre."
   ]
  },
  {
   "attachments": {},
   "cell_type": "markdown",
   "metadata": {},
   "source": [
    "### Genre of movies with the highest average rating"
   ]
  },
  {
   "cell_type": "code",
   "execution_count": 91,
   "metadata": {},
   "outputs": [
    {
     "data": {
      "text/plain": [
       "genres\n",
       "Documentary    7.280093\n",
       "Biography      6.971986\n",
       "Sport          6.896154\n",
       "History        6.888806\n",
       "War            6.786000\n",
       "Name: averagerating, dtype: float64"
      ]
     },
     "execution_count": 91,
     "metadata": {},
     "output_type": "execute_result"
    }
   ],
   "source": [
    "genres_rating_df = movies.groupby('genres')['averagerating'].mean().sort_values(ascending = False)\n",
    "genres_rating_df.head()"
   ]
  },
  {
   "cell_type": "code",
   "execution_count": 93,
   "metadata": {},
   "outputs": [
    {
     "data": {
      "image/png": "[encoded data removed]",
      "text/plain": [
       "<Figure size 1008x504 with 1 Axes>"
      ]
     },
     "metadata": {},
     "output_type": "display_data"
    }
   ],
   "source": [
    "# bar graph showing the average rating by genre\n",
    "fig, ax =plt.subplots(figsize=(14,7))\n",
    "order_by = movies.groupby('genres')['averagerating'].mean().sort_values(ascending=False).index\n",
    "sns.barplot(data=movies, x='genres', y= 'averagerating', palette='muted', order=order_by, ax=ax)\n",
    "ax.set_title('Average rating by genre')\n",
    "ax.set_ylabel('Average Rating')\n",
    "plt.xticks(rotation=60);"
   ]
  },
  {
   "attachments": {},
   "cell_type": "markdown",
   "metadata": {},
   "source": [
    "The difference between the heights of the bars, which represent the average rating, is quite small.<br>\n",
    "Documentary, biography and sport have the highest average rating while family, thriller and horror have the lowest average rating."
   ]
  },
  {
   "attachments": {},
   "cell_type": "markdown",
   "metadata": {},
   "source": [
    "### Total gross income by genre "
   ]
  },
  {
   "cell_type": "code",
   "execution_count": 103,
   "metadata": {},
   "outputs": [
    {
     "data": {
      "image/png": "[encoded data removed]",
      "text/plain": [
       "<Figure size 1008x504 with 1 Axes>"
      ]
     },
     "metadata": {},
     "output_type": "display_data"
    }
   ],
   "source": [
    "#bar graph showing the total gross income by genre\n",
    "fig, ax =plt.subplots(figsize=(14,7))\n",
    "order_by = movies.groupby('genres')['total_gross'].mean().sort_values(ascending=False).index\n",
    "sns.barplot(data=movies, x='genres', y= 'total_gross', order=order_by, ax=ax)\n",
    "ax.set_title('Total Gross Income by Genre')\n",
    "plt.xticks(rotation=82);"
   ]
  },
  {
   "attachments": {},
   "cell_type": "markdown",
   "metadata": {},
   "source": [
    "Box office Mojo tracks theatrical box office earnings. Additional sources of revenue, such as home entertainment sales and rentals, television rights, product placement fees are not included.<br>\n",
    "The genres with the highest income are Sci-Fi, adventure, animation and action while the genres with the lowest income are romance, documentary and war.<br>\n",
    "\n",
    "Various factors can affect the total gross income of a movie. In this case, I will investigate if there is a relationship between the average rating and the gross income."
   ]
  },
  {
   "attachments": {},
   "cell_type": "markdown",
   "metadata": {},
   "source": [
    "### Relationship between the average rating and the gross income"
   ]
  },
  {
   "cell_type": "code",
   "execution_count": 100,
   "metadata": {},
   "outputs": [
    {
     "data": {
      "image/png": "[encoded data removed]",
      "text/plain": [
       "<Figure size 792x432 with 1 Axes>"
      ]
     },
     "metadata": {},
     "output_type": "display_data"
    }
   ],
   "source": [
    "#scatter plot showing  total gross vs average rating\n",
    "fig, ax =plt.subplots(figsize=(11,6))\n",
    "sns.scatterplot(x=movies['averagerating'], y=movies['total_gross'], ax=ax)\n",
    "ax.set_title('total gross vs average rating')\n",
    "ax.set_ylabel('total gross income')\n",
    "ax.set_xlabel('average rating');"
   ]
  },
  {
   "attachments": {},
   "cell_type": "markdown",
   "metadata": {},
   "source": [
    "There is no clear relationship between the total gross income and the average rating. However, movies with a low average rating of below 4 have a low total gross income."
   ]
  },
  {
   "attachments": {},
   "cell_type": "markdown",
   "metadata": {},
   "source": [
    "### Gross income by start year"
   ]
  },
  {
   "cell_type": "code",
   "execution_count": 101,
   "metadata": {},
   "outputs": [
    {
     "data": {
      "image/png": "[encoded data removed]",
      "text/plain": [
       "<Figure size 1080x504 with 1 Axes>"
      ]
     },
     "metadata": {},
     "output_type": "display_data"
    }
   ],
   "source": [
    "#lineplot showing the domestic gross and foreign gross income by start year\n",
    "fig, ax =plt.subplots(figsize=(15,7))\n",
    "sns.lineplot(data=movies, x='start_year', y='domestic_gross', ax=ax, label='domestic_gross')\n",
    "sns.lineplot(data=movies, x='start_year', y='foreign_gross', label='foreign_gross', ax=ax)\n",
    "ax.set_title('Gross Income by Start Year')\n",
    "ax.set_ylabel('Gross income');"
   ]
  },
  {
   "attachments": {},
   "cell_type": "markdown",
   "metadata": {},
   "source": [
    "Throughout the years, the foreign gross is often higher than the domestic gross income when a movie is released. <br>\n",
    "Movies that were released in 2018 had the highest foreign gross and domestic gross income.The gross incomes then drastically dropped to their lowest for movies that were released in 2019. This is probably because most people preferred to utilize streaming services rather than go to the theatres. <br>For instance, from 2019, Netflix grew at an astonishing pace around the world.  The streaming video company added 9.6 million paid subscribers in the first three months of 2019."
   ]
  },
  {
   "attachments": {},
   "cell_type": "markdown",
   "metadata": {},
   "source": [
    "## Conclusions and recommendations"
   ]
  },
  {
   "attachments": {},
   "cell_type": "markdown",
   "metadata": {},
   "source": [
    "- The genres of most of the movies that have been released are drama, comedy and action.<br>\n",
    "- From the dataset available, the popularity and success of a given genre can be determined based on the average rating of the genre or the total gross income of the genre.<br>\n",
    "- Documentary, biography and sport have the highest average rating while Sci-Fi, adventure, animation and action have the highest total gross income.Despite documentary and biography having the highest average rating, they have a very low income.There is no clear relationship between the total gross income and the average rating.\n",
    "- Microsoft should consider focusing on genres with the highest total gross income in order to get higher returns on their investment. These genres are Sci-Fi, adventure, animation and action. They seem to appeal to a broad audience hence have a high theatrical box office earnings. \n",
    "- Microsoft should focus on exploring more the international markets  which have had a higher gross over the years when compared to the domestic markets. The movies created should consider the interests of the international market.\n",
    "- Due to the drastic drop in the gross from theatrical earnings for movies released in 2019, Microsoft should look into other sources of revenue and invest in them."
   ]
  },
  {
   "attachments": {},
   "cell_type": "markdown",
   "metadata": {},
   "source": [
    "## Future work"
   ]
  },
  {
   "attachments": {},
   "cell_type": "markdown",
   "metadata": {},
   "source": [
    "- Further research should be done to determine the best time of the year to release a movie of a certain genre.\n",
    "- It is beneficial to determine whether the total gross income of a genre increases proportionally if the production, development, marketing, and advertising budgets of the movie are increased. This can help in predicting the profits based on the budget.\n",
    "- Other than theatrical earnings, there are other sources of revenue for studios such as home entertainment sales and rentals, television rights, product placement fees and streaming services. It would be important to collect data about these sources of revenue and compare them to the revenue from the theatre earnings.\n"
   ]
  }
 ],
 "metadata": {
  "kernelspec": {
   "display_name": "Python (learn-env)",
   "language": "python",
   "name": "learn-env"
  },
  "language_info": {
   "codemirror_mode": {
    "name": "ipython",
    "version": 3
   },
   "file_extension": ".py",
   "mimetype": "text/x-python",
   "name": "python",
   "nbconvert_exporter": "python",
   "pygments_lexer": "ipython3",
   "version": "3.8.5"
  }
 },
 "nbformat": 4,
 "nbformat_minor": 2
}
